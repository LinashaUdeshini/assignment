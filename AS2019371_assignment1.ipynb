{
  "nbformat": 4,
  "nbformat_minor": 0,
  "metadata": {
    "colab": {
      "provenance": [],
      "authorship_tag": "ABX9TyMV5Rxyb8nvxD4fU9Brd8ih",
      "include_colab_link": true
    },
    "kernelspec": {
      "name": "python3",
      "display_name": "Python 3"
    },
    "language_info": {
      "name": "python"
    }
  },
  "cells": [
    {
      "cell_type": "markdown",
      "metadata": {
        "id": "view-in-github",
        "colab_type": "text"
      },
      "source": [
        "<a href=\"https://colab.research.google.com/github/LinashaUdeshini/assignment/blob/main/AS2019371_assignment1.ipynb\" target=\"_parent\"><img src=\"https://colab.research.google.com/assets/colab-badge.svg\" alt=\"Open In Colab\"/></a>"
      ]
    },
    {
      "cell_type": "markdown",
      "source": [
        "# 1**. Import Libraries** "
      ],
      "metadata": {
        "id": "e1nAE-JcpM1U"
      }
    },
    {
      "cell_type": "code",
      "source": [
        "#import libraries\n",
        "import pandas as pd                                          #use for data manipulation and analysis \n",
        "import numpy as np                                           #use for mathematical operations, multi-dimensional arrays and matrices\n",
        "import matplotlib.pyplot as plt                              #use for visualization 2D and 3D plots\n",
        "from matplotlib.colors import ListedColormap                 \n",
        "import seaborn as sns                                        #use for plotting statistical graphics\n",
        "\n",
        "\n",
        "# import various functions to perform classification\n",
        "from sklearn.preprocessing import StandardScaler\n",
        "from sklearn.model_selection import train_test_split\n",
        "from sklearn import metrics\n",
        "from sklearn.metrics import classification_report\n",
        "from sklearn.metrics import confusion_matrix\n",
        "from sklearn.neighbors import KNeighborsClassifier\n",
        "from sklearn.model_selection import cross_val_score \n",
        "from sklearn.metrics import mean_absolute_error\n",
        "from sklearn.metrics import accuracy_score\n",
        "from keras.models import Sequential\n",
        "from keras.layers import Dense\n",
        "from keras.losses import SparseCategoricalCrossentropy\n",
        "from keras.optimizers import Adam\n",
        "\n"
      ],
      "metadata": {
        "id": "SVbVVNKJncSG"
      },
      "execution_count": null,
      "outputs": []
    },
    {
      "cell_type": "markdown",
      "source": [
        "# **2. Set operations**"
      ],
      "metadata": {
        "id": "7S0tys4XpaJ6"
      }
    },
    {
      "cell_type": "code",
      "source": [
        "#set options\n",
        "pd.options.display.max_columns = None                         # display all columns of the dataframe\n",
        "pd.options.display.max_rows = 50                              # display all rows of the dataframe\n",
        "np.set_printoptions(suppress=True)                            # use below code to convert the 'exponential' values to float"
      ],
      "metadata": {
        "id": "ypiWGW9lozPf"
      },
      "execution_count": null,
      "outputs": []
    },
    {
      "cell_type": "markdown",
      "source": [
        "# **3. Read Data**"
      ],
      "metadata": {
        "id": "9c-uF2lDph9z"
      }
    },
    {
      "cell_type": "code",
      "execution_count": null,
      "metadata": {
        "colab": {
          "base_uri": "https://localhost:8080/",
          "height": 270
        },
        "id": "bYtrQq7nIMZ3",
        "outputId": "cfc4ed8a-a1f5-4dde-9552-a700ebf40128"
      },
      "outputs": [
        {
          "output_type": "execute_result",
          "data": {
            "text/plain": [
              "   battery_power  blue  clock_speed  dual_sim  fc  four_g  int_memory  m_dep  \\\n",
              "0            842     0          2.2         0   1       0           7    0.6   \n",
              "1           1021     1          0.5         1   0       1          53    0.7   \n",
              "2            563     1          0.5         1   2       1          41    0.9   \n",
              "3            615     1          2.5         0   0       0          10    0.8   \n",
              "4           1821     1          1.2         0  13       1          44    0.6   \n",
              "\n",
              "   mobile_wt  n_cores  pc  px_height  px_width   ram  sc_h  sc_w  talk_time  \\\n",
              "0        188        2   2         20       756  2549     9     7         19   \n",
              "1        136        3   6        905      1988  2631    17     3          7   \n",
              "2        145        5   6       1263      1716  2603    11     2          9   \n",
              "3        131        6   9       1216      1786  2769    16     8         11   \n",
              "4        141        2  14       1208      1212  1411     8     2         15   \n",
              "\n",
              "   three_g  touch_screen  wifi  price_range  \n",
              "0        0             0     1            1  \n",
              "1        1             1     0            2  \n",
              "2        1             1     0            2  \n",
              "3        1             0     0            2  \n",
              "4        1             1     0            1  "
            ],
            "text/html": [
              "\n",
              "  <div id=\"df-c625415f-09ea-4eb6-b64e-f4611432522d\">\n",
              "    <div class=\"colab-df-container\">\n",
              "      <div>\n",
              "<style scoped>\n",
              "    .dataframe tbody tr th:only-of-type {\n",
              "        vertical-align: middle;\n",
              "    }\n",
              "\n",
              "    .dataframe tbody tr th {\n",
              "        vertical-align: top;\n",
              "    }\n",
              "\n",
              "    .dataframe thead th {\n",
              "        text-align: right;\n",
              "    }\n",
              "</style>\n",
              "<table border=\"1\" class=\"dataframe\">\n",
              "  <thead>\n",
              "    <tr style=\"text-align: right;\">\n",
              "      <th></th>\n",
              "      <th>battery_power</th>\n",
              "      <th>blue</th>\n",
              "      <th>clock_speed</th>\n",
              "      <th>dual_sim</th>\n",
              "      <th>fc</th>\n",
              "      <th>four_g</th>\n",
              "      <th>int_memory</th>\n",
              "      <th>m_dep</th>\n",
              "      <th>mobile_wt</th>\n",
              "      <th>n_cores</th>\n",
              "      <th>pc</th>\n",
              "      <th>px_height</th>\n",
              "      <th>px_width</th>\n",
              "      <th>ram</th>\n",
              "      <th>sc_h</th>\n",
              "      <th>sc_w</th>\n",
              "      <th>talk_time</th>\n",
              "      <th>three_g</th>\n",
              "      <th>touch_screen</th>\n",
              "      <th>wifi</th>\n",
              "      <th>price_range</th>\n",
              "    </tr>\n",
              "  </thead>\n",
              "  <tbody>\n",
              "    <tr>\n",
              "      <th>0</th>\n",
              "      <td>842</td>\n",
              "      <td>0</td>\n",
              "      <td>2.2</td>\n",
              "      <td>0</td>\n",
              "      <td>1</td>\n",
              "      <td>0</td>\n",
              "      <td>7</td>\n",
              "      <td>0.6</td>\n",
              "      <td>188</td>\n",
              "      <td>2</td>\n",
              "      <td>2</td>\n",
              "      <td>20</td>\n",
              "      <td>756</td>\n",
              "      <td>2549</td>\n",
              "      <td>9</td>\n",
              "      <td>7</td>\n",
              "      <td>19</td>\n",
              "      <td>0</td>\n",
              "      <td>0</td>\n",
              "      <td>1</td>\n",
              "      <td>1</td>\n",
              "    </tr>\n",
              "    <tr>\n",
              "      <th>1</th>\n",
              "      <td>1021</td>\n",
              "      <td>1</td>\n",
              "      <td>0.5</td>\n",
              "      <td>1</td>\n",
              "      <td>0</td>\n",
              "      <td>1</td>\n",
              "      <td>53</td>\n",
              "      <td>0.7</td>\n",
              "      <td>136</td>\n",
              "      <td>3</td>\n",
              "      <td>6</td>\n",
              "      <td>905</td>\n",
              "      <td>1988</td>\n",
              "      <td>2631</td>\n",
              "      <td>17</td>\n",
              "      <td>3</td>\n",
              "      <td>7</td>\n",
              "      <td>1</td>\n",
              "      <td>1</td>\n",
              "      <td>0</td>\n",
              "      <td>2</td>\n",
              "    </tr>\n",
              "    <tr>\n",
              "      <th>2</th>\n",
              "      <td>563</td>\n",
              "      <td>1</td>\n",
              "      <td>0.5</td>\n",
              "      <td>1</td>\n",
              "      <td>2</td>\n",
              "      <td>1</td>\n",
              "      <td>41</td>\n",
              "      <td>0.9</td>\n",
              "      <td>145</td>\n",
              "      <td>5</td>\n",
              "      <td>6</td>\n",
              "      <td>1263</td>\n",
              "      <td>1716</td>\n",
              "      <td>2603</td>\n",
              "      <td>11</td>\n",
              "      <td>2</td>\n",
              "      <td>9</td>\n",
              "      <td>1</td>\n",
              "      <td>1</td>\n",
              "      <td>0</td>\n",
              "      <td>2</td>\n",
              "    </tr>\n",
              "    <tr>\n",
              "      <th>3</th>\n",
              "      <td>615</td>\n",
              "      <td>1</td>\n",
              "      <td>2.5</td>\n",
              "      <td>0</td>\n",
              "      <td>0</td>\n",
              "      <td>0</td>\n",
              "      <td>10</td>\n",
              "      <td>0.8</td>\n",
              "      <td>131</td>\n",
              "      <td>6</td>\n",
              "      <td>9</td>\n",
              "      <td>1216</td>\n",
              "      <td>1786</td>\n",
              "      <td>2769</td>\n",
              "      <td>16</td>\n",
              "      <td>8</td>\n",
              "      <td>11</td>\n",
              "      <td>1</td>\n",
              "      <td>0</td>\n",
              "      <td>0</td>\n",
              "      <td>2</td>\n",
              "    </tr>\n",
              "    <tr>\n",
              "      <th>4</th>\n",
              "      <td>1821</td>\n",
              "      <td>1</td>\n",
              "      <td>1.2</td>\n",
              "      <td>0</td>\n",
              "      <td>13</td>\n",
              "      <td>1</td>\n",
              "      <td>44</td>\n",
              "      <td>0.6</td>\n",
              "      <td>141</td>\n",
              "      <td>2</td>\n",
              "      <td>14</td>\n",
              "      <td>1208</td>\n",
              "      <td>1212</td>\n",
              "      <td>1411</td>\n",
              "      <td>8</td>\n",
              "      <td>2</td>\n",
              "      <td>15</td>\n",
              "      <td>1</td>\n",
              "      <td>1</td>\n",
              "      <td>0</td>\n",
              "      <td>1</td>\n",
              "    </tr>\n",
              "  </tbody>\n",
              "</table>\n",
              "</div>\n",
              "      <button class=\"colab-df-convert\" onclick=\"convertToInteractive('df-c625415f-09ea-4eb6-b64e-f4611432522d')\"\n",
              "              title=\"Convert this dataframe to an interactive table.\"\n",
              "              style=\"display:none;\">\n",
              "        \n",
              "  <svg xmlns=\"http://www.w3.org/2000/svg\" height=\"24px\"viewBox=\"0 0 24 24\"\n",
              "       width=\"24px\">\n",
              "    <path d=\"M0 0h24v24H0V0z\" fill=\"none\"/>\n",
              "    <path d=\"M18.56 5.44l.94 2.06.94-2.06 2.06-.94-2.06-.94-.94-2.06-.94 2.06-2.06.94zm-11 1L8.5 8.5l.94-2.06 2.06-.94-2.06-.94L8.5 2.5l-.94 2.06-2.06.94zm10 10l.94 2.06.94-2.06 2.06-.94-2.06-.94-.94-2.06-.94 2.06-2.06.94z\"/><path d=\"M17.41 7.96l-1.37-1.37c-.4-.4-.92-.59-1.43-.59-.52 0-1.04.2-1.43.59L10.3 9.45l-7.72 7.72c-.78.78-.78 2.05 0 2.83L4 21.41c.39.39.9.59 1.41.59.51 0 1.02-.2 1.41-.59l7.78-7.78 2.81-2.81c.8-.78.8-2.07 0-2.86zM5.41 20L4 18.59l7.72-7.72 1.47 1.35L5.41 20z\"/>\n",
              "  </svg>\n",
              "      </button>\n",
              "      \n",
              "  <style>\n",
              "    .colab-df-container {\n",
              "      display:flex;\n",
              "      flex-wrap:wrap;\n",
              "      gap: 12px;\n",
              "    }\n",
              "\n",
              "    .colab-df-convert {\n",
              "      background-color: #E8F0FE;\n",
              "      border: none;\n",
              "      border-radius: 50%;\n",
              "      cursor: pointer;\n",
              "      display: none;\n",
              "      fill: #1967D2;\n",
              "      height: 32px;\n",
              "      padding: 0 0 0 0;\n",
              "      width: 32px;\n",
              "    }\n",
              "\n",
              "    .colab-df-convert:hover {\n",
              "      background-color: #E2EBFA;\n",
              "      box-shadow: 0px 1px 2px rgba(60, 64, 67, 0.3), 0px 1px 3px 1px rgba(60, 64, 67, 0.15);\n",
              "      fill: #174EA6;\n",
              "    }\n",
              "\n",
              "    [theme=dark] .colab-df-convert {\n",
              "      background-color: #3B4455;\n",
              "      fill: #D2E3FC;\n",
              "    }\n",
              "\n",
              "    [theme=dark] .colab-df-convert:hover {\n",
              "      background-color: #434B5C;\n",
              "      box-shadow: 0px 1px 3px 1px rgba(0, 0, 0, 0.15);\n",
              "      filter: drop-shadow(0px 1px 2px rgba(0, 0, 0, 0.3));\n",
              "      fill: #FFFFFF;\n",
              "    }\n",
              "  </style>\n",
              "\n",
              "      <script>\n",
              "        const buttonEl =\n",
              "          document.querySelector('#df-c625415f-09ea-4eb6-b64e-f4611432522d button.colab-df-convert');\n",
              "        buttonEl.style.display =\n",
              "          google.colab.kernel.accessAllowed ? 'block' : 'none';\n",
              "\n",
              "        async function convertToInteractive(key) {\n",
              "          const element = document.querySelector('#df-c625415f-09ea-4eb6-b64e-f4611432522d');\n",
              "          const dataTable =\n",
              "            await google.colab.kernel.invokeFunction('convertToInteractive',\n",
              "                                                     [key], {});\n",
              "          if (!dataTable) return;\n",
              "\n",
              "          const docLinkHtml = 'Like what you see? Visit the ' +\n",
              "            '<a target=\"_blank\" href=https://colab.research.google.com/notebooks/data_table.ipynb>data table notebook</a>'\n",
              "            + ' to learn more about interactive tables.';\n",
              "          element.innerHTML = '';\n",
              "          dataTable['output_type'] = 'display_data';\n",
              "          await google.colab.output.renderOutput(dataTable, element);\n",
              "          const docLink = document.createElement('div');\n",
              "          docLink.innerHTML = docLinkHtml;\n",
              "          element.appendChild(docLink);\n",
              "        }\n",
              "      </script>\n",
              "    </div>\n",
              "  </div>\n",
              "  "
            ]
          },
          "metadata": {},
          "execution_count": 43
        }
      ],
      "source": [
        "#read csv file using pandas\n",
        "df_mobile = pd.read_csv(\"/Mobile_Dataset.csv\")\n",
        "df_mobile.head()"
      ]
    },
    {
      "cell_type": "markdown",
      "source": [
        "# **4. Data analysis and preparion**"
      ],
      "metadata": {
        "id": "tz9s46Zmpo3s"
      }
    },
    {
      "cell_type": "markdown",
      "source": [
        "**4.1 Understand data types**\n",
        "\n",
        "---\n",
        "\n"
      ],
      "metadata": {
        "id": "vPJ11eVUpzVd"
      }
    },
    {
      "cell_type": "code",
      "source": [
        "#extract the variables with its data type\n",
        "df_mobile.dtypes\n"
      ],
      "metadata": {
        "colab": {
          "base_uri": "https://localhost:8080/"
        },
        "id": "54YO_C3cncbS",
        "outputId": "8b6666e3-8e44-4829-a0f0-094716cbf2d9"
      },
      "execution_count": null,
      "outputs": [
        {
          "output_type": "execute_result",
          "data": {
            "text/plain": [
              "battery_power      int64\n",
              "blue               int64\n",
              "clock_speed      float64\n",
              "dual_sim           int64\n",
              "fc                 int64\n",
              "four_g             int64\n",
              "int_memory         int64\n",
              "m_dep            float64\n",
              "mobile_wt          int64\n",
              "n_cores            int64\n",
              "pc                 int64\n",
              "px_height          int64\n",
              "px_width           int64\n",
              "ram                int64\n",
              "sc_h               int64\n",
              "sc_w               int64\n",
              "talk_time          int64\n",
              "three_g            int64\n",
              "touch_screen       int64\n",
              "wifi               int64\n",
              "price_range        int64\n",
              "dtype: object"
            ]
          },
          "metadata": {},
          "execution_count": 44
        }
      ]
    },
    {
      "cell_type": "markdown",
      "source": [
        "**Interpretaion** - Here all the variables except clock_speed and m_dep is int64. clock_speed and m_dep are in float64 format. All the varials are in numeric format. So dont want any linear transformations. Basically we use linear transformations for resizing inputs to a fixed size or change non-numeric data into numeric data. Here all the data are in numeric type and the size of data are ok. So dont wan any linear transformations. "
      ],
      "metadata": {
        "id": "1pFnaIp-x7Pa"
      }
    },
    {
      "cell_type": "markdown",
      "source": [
        "**4.2. Summary Statistic**"
      ],
      "metadata": {
        "id": "__loqUpkqGnT"
      }
    },
    {
      "cell_type": "code",
      "source": [
        "#summary statistic for the dataset\n",
        "df_mobile.describe()"
      ],
      "metadata": {
        "colab": {
          "base_uri": "https://localhost:8080/",
          "height": 364
        },
        "id": "Xp4qlFku3kDJ",
        "outputId": "cc36d8ac-53bb-4aa3-9f55-34d14a60dc53"
      },
      "execution_count": null,
      "outputs": [
        {
          "output_type": "execute_result",
          "data": {
            "text/plain": [
              "       battery_power       blue  clock_speed     dual_sim           fc  \\\n",
              "count    2000.000000  2000.0000  2000.000000  2000.000000  2000.000000   \n",
              "mean     1238.518500     0.4950     1.522250     0.509500     4.309500   \n",
              "std       439.418206     0.5001     0.816004     0.500035     4.341444   \n",
              "min       501.000000     0.0000     0.500000     0.000000     0.000000   \n",
              "25%       851.750000     0.0000     0.700000     0.000000     1.000000   \n",
              "50%      1226.000000     0.0000     1.500000     1.000000     3.000000   \n",
              "75%      1615.250000     1.0000     2.200000     1.000000     7.000000   \n",
              "max      1998.000000     1.0000     3.000000     1.000000    19.000000   \n",
              "\n",
              "            four_g   int_memory        m_dep    mobile_wt      n_cores  \\\n",
              "count  2000.000000  2000.000000  2000.000000  2000.000000  2000.000000   \n",
              "mean      0.521500    32.046500     0.501750   140.249000     4.520500   \n",
              "std       0.499662    18.145715     0.288416    35.399655     2.287837   \n",
              "min       0.000000     2.000000     0.100000    80.000000     1.000000   \n",
              "25%       0.000000    16.000000     0.200000   109.000000     3.000000   \n",
              "50%       1.000000    32.000000     0.500000   141.000000     4.000000   \n",
              "75%       1.000000    48.000000     0.800000   170.000000     7.000000   \n",
              "max       1.000000    64.000000     1.000000   200.000000     8.000000   \n",
              "\n",
              "                pc    px_height     px_width          ram         sc_h  \\\n",
              "count  2000.000000  2000.000000  2000.000000  2000.000000  2000.000000   \n",
              "mean      9.916500   645.108000  1251.515500  2124.213000    12.306500   \n",
              "std       6.064315   443.780811   432.199447  1084.732044     4.213245   \n",
              "min       0.000000     0.000000   500.000000   256.000000     5.000000   \n",
              "25%       5.000000   282.750000   874.750000  1207.500000     9.000000   \n",
              "50%      10.000000   564.000000  1247.000000  2146.500000    12.000000   \n",
              "75%      15.000000   947.250000  1633.000000  3064.500000    16.000000   \n",
              "max      20.000000  1960.000000  1998.000000  3998.000000    19.000000   \n",
              "\n",
              "              sc_w    talk_time      three_g  touch_screen         wifi  \\\n",
              "count  2000.000000  2000.000000  2000.000000   2000.000000  2000.000000   \n",
              "mean      5.767000    11.011000     0.761500      0.503000     0.507000   \n",
              "std       4.356398     5.463955     0.426273      0.500116     0.500076   \n",
              "min       0.000000     2.000000     0.000000      0.000000     0.000000   \n",
              "25%       2.000000     6.000000     1.000000      0.000000     0.000000   \n",
              "50%       5.000000    11.000000     1.000000      1.000000     1.000000   \n",
              "75%       9.000000    16.000000     1.000000      1.000000     1.000000   \n",
              "max      18.000000    20.000000     1.000000      1.000000     1.000000   \n",
              "\n",
              "       price_range  \n",
              "count  2000.000000  \n",
              "mean      1.500000  \n",
              "std       1.118314  \n",
              "min       0.000000  \n",
              "25%       0.750000  \n",
              "50%       1.500000  \n",
              "75%       2.250000  \n",
              "max       3.000000  "
            ],
            "text/html": [
              "\n",
              "  <div id=\"df-e0a207d1-ccd6-4a1d-b4fc-c5405f40df95\">\n",
              "    <div class=\"colab-df-container\">\n",
              "      <div>\n",
              "<style scoped>\n",
              "    .dataframe tbody tr th:only-of-type {\n",
              "        vertical-align: middle;\n",
              "    }\n",
              "\n",
              "    .dataframe tbody tr th {\n",
              "        vertical-align: top;\n",
              "    }\n",
              "\n",
              "    .dataframe thead th {\n",
              "        text-align: right;\n",
              "    }\n",
              "</style>\n",
              "<table border=\"1\" class=\"dataframe\">\n",
              "  <thead>\n",
              "    <tr style=\"text-align: right;\">\n",
              "      <th></th>\n",
              "      <th>battery_power</th>\n",
              "      <th>blue</th>\n",
              "      <th>clock_speed</th>\n",
              "      <th>dual_sim</th>\n",
              "      <th>fc</th>\n",
              "      <th>four_g</th>\n",
              "      <th>int_memory</th>\n",
              "      <th>m_dep</th>\n",
              "      <th>mobile_wt</th>\n",
              "      <th>n_cores</th>\n",
              "      <th>pc</th>\n",
              "      <th>px_height</th>\n",
              "      <th>px_width</th>\n",
              "      <th>ram</th>\n",
              "      <th>sc_h</th>\n",
              "      <th>sc_w</th>\n",
              "      <th>talk_time</th>\n",
              "      <th>three_g</th>\n",
              "      <th>touch_screen</th>\n",
              "      <th>wifi</th>\n",
              "      <th>price_range</th>\n",
              "    </tr>\n",
              "  </thead>\n",
              "  <tbody>\n",
              "    <tr>\n",
              "      <th>count</th>\n",
              "      <td>2000.000000</td>\n",
              "      <td>2000.0000</td>\n",
              "      <td>2000.000000</td>\n",
              "      <td>2000.000000</td>\n",
              "      <td>2000.000000</td>\n",
              "      <td>2000.000000</td>\n",
              "      <td>2000.000000</td>\n",
              "      <td>2000.000000</td>\n",
              "      <td>2000.000000</td>\n",
              "      <td>2000.000000</td>\n",
              "      <td>2000.000000</td>\n",
              "      <td>2000.000000</td>\n",
              "      <td>2000.000000</td>\n",
              "      <td>2000.000000</td>\n",
              "      <td>2000.000000</td>\n",
              "      <td>2000.000000</td>\n",
              "      <td>2000.000000</td>\n",
              "      <td>2000.000000</td>\n",
              "      <td>2000.000000</td>\n",
              "      <td>2000.000000</td>\n",
              "      <td>2000.000000</td>\n",
              "    </tr>\n",
              "    <tr>\n",
              "      <th>mean</th>\n",
              "      <td>1238.518500</td>\n",
              "      <td>0.4950</td>\n",
              "      <td>1.522250</td>\n",
              "      <td>0.509500</td>\n",
              "      <td>4.309500</td>\n",
              "      <td>0.521500</td>\n",
              "      <td>32.046500</td>\n",
              "      <td>0.501750</td>\n",
              "      <td>140.249000</td>\n",
              "      <td>4.520500</td>\n",
              "      <td>9.916500</td>\n",
              "      <td>645.108000</td>\n",
              "      <td>1251.515500</td>\n",
              "      <td>2124.213000</td>\n",
              "      <td>12.306500</td>\n",
              "      <td>5.767000</td>\n",
              "      <td>11.011000</td>\n",
              "      <td>0.761500</td>\n",
              "      <td>0.503000</td>\n",
              "      <td>0.507000</td>\n",
              "      <td>1.500000</td>\n",
              "    </tr>\n",
              "    <tr>\n",
              "      <th>std</th>\n",
              "      <td>439.418206</td>\n",
              "      <td>0.5001</td>\n",
              "      <td>0.816004</td>\n",
              "      <td>0.500035</td>\n",
              "      <td>4.341444</td>\n",
              "      <td>0.499662</td>\n",
              "      <td>18.145715</td>\n",
              "      <td>0.288416</td>\n",
              "      <td>35.399655</td>\n",
              "      <td>2.287837</td>\n",
              "      <td>6.064315</td>\n",
              "      <td>443.780811</td>\n",
              "      <td>432.199447</td>\n",
              "      <td>1084.732044</td>\n",
              "      <td>4.213245</td>\n",
              "      <td>4.356398</td>\n",
              "      <td>5.463955</td>\n",
              "      <td>0.426273</td>\n",
              "      <td>0.500116</td>\n",
              "      <td>0.500076</td>\n",
              "      <td>1.118314</td>\n",
              "    </tr>\n",
              "    <tr>\n",
              "      <th>min</th>\n",
              "      <td>501.000000</td>\n",
              "      <td>0.0000</td>\n",
              "      <td>0.500000</td>\n",
              "      <td>0.000000</td>\n",
              "      <td>0.000000</td>\n",
              "      <td>0.000000</td>\n",
              "      <td>2.000000</td>\n",
              "      <td>0.100000</td>\n",
              "      <td>80.000000</td>\n",
              "      <td>1.000000</td>\n",
              "      <td>0.000000</td>\n",
              "      <td>0.000000</td>\n",
              "      <td>500.000000</td>\n",
              "      <td>256.000000</td>\n",
              "      <td>5.000000</td>\n",
              "      <td>0.000000</td>\n",
              "      <td>2.000000</td>\n",
              "      <td>0.000000</td>\n",
              "      <td>0.000000</td>\n",
              "      <td>0.000000</td>\n",
              "      <td>0.000000</td>\n",
              "    </tr>\n",
              "    <tr>\n",
              "      <th>25%</th>\n",
              "      <td>851.750000</td>\n",
              "      <td>0.0000</td>\n",
              "      <td>0.700000</td>\n",
              "      <td>0.000000</td>\n",
              "      <td>1.000000</td>\n",
              "      <td>0.000000</td>\n",
              "      <td>16.000000</td>\n",
              "      <td>0.200000</td>\n",
              "      <td>109.000000</td>\n",
              "      <td>3.000000</td>\n",
              "      <td>5.000000</td>\n",
              "      <td>282.750000</td>\n",
              "      <td>874.750000</td>\n",
              "      <td>1207.500000</td>\n",
              "      <td>9.000000</td>\n",
              "      <td>2.000000</td>\n",
              "      <td>6.000000</td>\n",
              "      <td>1.000000</td>\n",
              "      <td>0.000000</td>\n",
              "      <td>0.000000</td>\n",
              "      <td>0.750000</td>\n",
              "    </tr>\n",
              "    <tr>\n",
              "      <th>50%</th>\n",
              "      <td>1226.000000</td>\n",
              "      <td>0.0000</td>\n",
              "      <td>1.500000</td>\n",
              "      <td>1.000000</td>\n",
              "      <td>3.000000</td>\n",
              "      <td>1.000000</td>\n",
              "      <td>32.000000</td>\n",
              "      <td>0.500000</td>\n",
              "      <td>141.000000</td>\n",
              "      <td>4.000000</td>\n",
              "      <td>10.000000</td>\n",
              "      <td>564.000000</td>\n",
              "      <td>1247.000000</td>\n",
              "      <td>2146.500000</td>\n",
              "      <td>12.000000</td>\n",
              "      <td>5.000000</td>\n",
              "      <td>11.000000</td>\n",
              "      <td>1.000000</td>\n",
              "      <td>1.000000</td>\n",
              "      <td>1.000000</td>\n",
              "      <td>1.500000</td>\n",
              "    </tr>\n",
              "    <tr>\n",
              "      <th>75%</th>\n",
              "      <td>1615.250000</td>\n",
              "      <td>1.0000</td>\n",
              "      <td>2.200000</td>\n",
              "      <td>1.000000</td>\n",
              "      <td>7.000000</td>\n",
              "      <td>1.000000</td>\n",
              "      <td>48.000000</td>\n",
              "      <td>0.800000</td>\n",
              "      <td>170.000000</td>\n",
              "      <td>7.000000</td>\n",
              "      <td>15.000000</td>\n",
              "      <td>947.250000</td>\n",
              "      <td>1633.000000</td>\n",
              "      <td>3064.500000</td>\n",
              "      <td>16.000000</td>\n",
              "      <td>9.000000</td>\n",
              "      <td>16.000000</td>\n",
              "      <td>1.000000</td>\n",
              "      <td>1.000000</td>\n",
              "      <td>1.000000</td>\n",
              "      <td>2.250000</td>\n",
              "    </tr>\n",
              "    <tr>\n",
              "      <th>max</th>\n",
              "      <td>1998.000000</td>\n",
              "      <td>1.0000</td>\n",
              "      <td>3.000000</td>\n",
              "      <td>1.000000</td>\n",
              "      <td>19.000000</td>\n",
              "      <td>1.000000</td>\n",
              "      <td>64.000000</td>\n",
              "      <td>1.000000</td>\n",
              "      <td>200.000000</td>\n",
              "      <td>8.000000</td>\n",
              "      <td>20.000000</td>\n",
              "      <td>1960.000000</td>\n",
              "      <td>1998.000000</td>\n",
              "      <td>3998.000000</td>\n",
              "      <td>19.000000</td>\n",
              "      <td>18.000000</td>\n",
              "      <td>20.000000</td>\n",
              "      <td>1.000000</td>\n",
              "      <td>1.000000</td>\n",
              "      <td>1.000000</td>\n",
              "      <td>3.000000</td>\n",
              "    </tr>\n",
              "  </tbody>\n",
              "</table>\n",
              "</div>\n",
              "      <button class=\"colab-df-convert\" onclick=\"convertToInteractive('df-e0a207d1-ccd6-4a1d-b4fc-c5405f40df95')\"\n",
              "              title=\"Convert this dataframe to an interactive table.\"\n",
              "              style=\"display:none;\">\n",
              "        \n",
              "  <svg xmlns=\"http://www.w3.org/2000/svg\" height=\"24px\"viewBox=\"0 0 24 24\"\n",
              "       width=\"24px\">\n",
              "    <path d=\"M0 0h24v24H0V0z\" fill=\"none\"/>\n",
              "    <path d=\"M18.56 5.44l.94 2.06.94-2.06 2.06-.94-2.06-.94-.94-2.06-.94 2.06-2.06.94zm-11 1L8.5 8.5l.94-2.06 2.06-.94-2.06-.94L8.5 2.5l-.94 2.06-2.06.94zm10 10l.94 2.06.94-2.06 2.06-.94-2.06-.94-.94-2.06-.94 2.06-2.06.94z\"/><path d=\"M17.41 7.96l-1.37-1.37c-.4-.4-.92-.59-1.43-.59-.52 0-1.04.2-1.43.59L10.3 9.45l-7.72 7.72c-.78.78-.78 2.05 0 2.83L4 21.41c.39.39.9.59 1.41.59.51 0 1.02-.2 1.41-.59l7.78-7.78 2.81-2.81c.8-.78.8-2.07 0-2.86zM5.41 20L4 18.59l7.72-7.72 1.47 1.35L5.41 20z\"/>\n",
              "  </svg>\n",
              "      </button>\n",
              "      \n",
              "  <style>\n",
              "    .colab-df-container {\n",
              "      display:flex;\n",
              "      flex-wrap:wrap;\n",
              "      gap: 12px;\n",
              "    }\n",
              "\n",
              "    .colab-df-convert {\n",
              "      background-color: #E8F0FE;\n",
              "      border: none;\n",
              "      border-radius: 50%;\n",
              "      cursor: pointer;\n",
              "      display: none;\n",
              "      fill: #1967D2;\n",
              "      height: 32px;\n",
              "      padding: 0 0 0 0;\n",
              "      width: 32px;\n",
              "    }\n",
              "\n",
              "    .colab-df-convert:hover {\n",
              "      background-color: #E2EBFA;\n",
              "      box-shadow: 0px 1px 2px rgba(60, 64, 67, 0.3), 0px 1px 3px 1px rgba(60, 64, 67, 0.15);\n",
              "      fill: #174EA6;\n",
              "    }\n",
              "\n",
              "    [theme=dark] .colab-df-convert {\n",
              "      background-color: #3B4455;\n",
              "      fill: #D2E3FC;\n",
              "    }\n",
              "\n",
              "    [theme=dark] .colab-df-convert:hover {\n",
              "      background-color: #434B5C;\n",
              "      box-shadow: 0px 1px 3px 1px rgba(0, 0, 0, 0.15);\n",
              "      filter: drop-shadow(0px 1px 2px rgba(0, 0, 0, 0.3));\n",
              "      fill: #FFFFFF;\n",
              "    }\n",
              "  </style>\n",
              "\n",
              "      <script>\n",
              "        const buttonEl =\n",
              "          document.querySelector('#df-e0a207d1-ccd6-4a1d-b4fc-c5405f40df95 button.colab-df-convert');\n",
              "        buttonEl.style.display =\n",
              "          google.colab.kernel.accessAllowed ? 'block' : 'none';\n",
              "\n",
              "        async function convertToInteractive(key) {\n",
              "          const element = document.querySelector('#df-e0a207d1-ccd6-4a1d-b4fc-c5405f40df95');\n",
              "          const dataTable =\n",
              "            await google.colab.kernel.invokeFunction('convertToInteractive',\n",
              "                                                     [key], {});\n",
              "          if (!dataTable) return;\n",
              "\n",
              "          const docLinkHtml = 'Like what you see? Visit the ' +\n",
              "            '<a target=\"_blank\" href=https://colab.research.google.com/notebooks/data_table.ipynb>data table notebook</a>'\n",
              "            + ' to learn more about interactive tables.';\n",
              "          element.innerHTML = '';\n",
              "          dataTable['output_type'] = 'display_data';\n",
              "          await google.colab.output.renderOutput(dataTable, element);\n",
              "          const docLink = document.createElement('div');\n",
              "          docLink.innerHTML = docLinkHtml;\n",
              "          element.appendChild(docLink);\n",
              "        }\n",
              "      </script>\n",
              "    </div>\n",
              "  </div>\n",
              "  "
            ]
          },
          "metadata": {},
          "execution_count": 45
        }
      ]
    },
    {
      "cell_type": "markdown",
      "source": [
        "**Interpretation -** Here I have represent the summary statistic for all the variables. Here count defines the number of data in each variable. In here there are some values which are 0 but it cannot be 0 exacly. Before the analysis of data we have to remove those 0 values with the mean value of that column."
      ],
      "metadata": {
        "id": "9g3-4qPG4FJw"
      }
    },
    {
      "cell_type": "markdown",
      "source": [
        "**4.3 Handling impossible values**"
      ],
      "metadata": {
        "id": "C3aMbJ0UqZL2"
      }
    },
    {
      "cell_type": "code",
      "source": [
        "#convert the zero values in battery_power,clock_speed,fc,sc_w,talk_time,int_memory,px_height,m_dep,mobile_wt,n_cores,pc,px_width,ram,sc_h,sc_w,talk_time into NAN\n",
        "sum(df_mobile.isnull().sum())\n",
        "df_mobile[['battery_power','clock_speed','fc','sc_w','int_memory','m_dep','mobile_wt','n_cores','pc','px_height','px_width','ram','sc_h']]=df_mobile[['battery_power','clock_speed','fc','sc_w','int_memory','m_dep','mobile_wt','n_cores','pc','px_height','px_width','ram','sc_h']].replace(0,np.NAN)\n",
        "\n",
        "#convert the NAN values in battery_power,clock_speed,fc,sc_w,talk_time,int_memory,px_height,m_dep,mobile_wt,n_cores,pc,px_width,ram,sc_h,sc_w,talk_time into mean value of each column\n",
        "df_mobile.fillna(df_mobile.mean(),inplace=True)\n",
        "df_mobile"
      ],
      "metadata": {
        "id": "6Rtoaa-fXV9N",
        "colab": {
          "base_uri": "https://localhost:8080/",
          "height": 488
        },
        "outputId": "03bd841e-0b61-4441-e000-ce440a2745ee"
      },
      "execution_count": null,
      "outputs": [
        {
          "output_type": "execute_result",
          "data": {
            "text/plain": [
              "      battery_power  blue  clock_speed  dual_sim       fc  four_g  int_memory  \\\n",
              "0               842     0          2.2         0   1.0000       0           7   \n",
              "1              1021     1          0.5         1   5.6481       1          53   \n",
              "2               563     1          0.5         1   2.0000       1          41   \n",
              "3               615     1          2.5         0   5.6481       0          10   \n",
              "4              1821     1          1.2         0  13.0000       1          44   \n",
              "...             ...   ...          ...       ...      ...     ...         ...   \n",
              "1995            794     1          0.5         1   5.6481       1           2   \n",
              "1996           1965     1          2.6         1   5.6481       0          39   \n",
              "1997           1911     0          0.9         1   1.0000       1          36   \n",
              "1998           1512     0          0.9         0   4.0000       1          46   \n",
              "1999            510     1          2.0         1   5.0000       1          45   \n",
              "\n",
              "      m_dep  mobile_wt  n_cores    pc  px_height  px_width   ram  sc_h  sc_w  \\\n",
              "0       0.6        188        2   2.0       20.0       756  2549     9   7.0   \n",
              "1       0.7        136        3   6.0      905.0      1988  2631    17   3.0   \n",
              "2       0.9        145        5   6.0     1263.0      1716  2603    11   2.0   \n",
              "3       0.8        131        6   9.0     1216.0      1786  2769    16   8.0   \n",
              "4       0.6        141        2  14.0     1208.0      1212  1411     8   2.0   \n",
              "...     ...        ...      ...   ...        ...       ...   ...   ...   ...   \n",
              "1995    0.8        106        6  14.0     1222.0      1890   668    13   4.0   \n",
              "1996    0.2        187        4   3.0      915.0      1965  2032    11  10.0   \n",
              "1997    0.7        108        8   3.0      868.0      1632  3057     9   1.0   \n",
              "1998    0.1        145        5   5.0      336.0       670   869    18  10.0   \n",
              "1999    0.9        168        6  16.0      483.0       754  3919    19   4.0   \n",
              "\n",
              "      talk_time  three_g  touch_screen  wifi  price_range  \n",
              "0            19        0             0     1            1  \n",
              "1             7        1             1     0            2  \n",
              "2             9        1             1     0            2  \n",
              "3            11        1             0     0            2  \n",
              "4            15        1             1     0            1  \n",
              "...         ...      ...           ...   ...          ...  \n",
              "1995         19        1             1     0            0  \n",
              "1996         16        1             1     1            2  \n",
              "1997          5        1             1     0            3  \n",
              "1998         19        1             1     1            0  \n",
              "1999          2        1             1     1            3  \n",
              "\n",
              "[2000 rows x 21 columns]"
            ],
            "text/html": [
              "\n",
              "  <div id=\"df-493cbc19-0fd9-4262-8b09-077990ade7d2\">\n",
              "    <div class=\"colab-df-container\">\n",
              "      <div>\n",
              "<style scoped>\n",
              "    .dataframe tbody tr th:only-of-type {\n",
              "        vertical-align: middle;\n",
              "    }\n",
              "\n",
              "    .dataframe tbody tr th {\n",
              "        vertical-align: top;\n",
              "    }\n",
              "\n",
              "    .dataframe thead th {\n",
              "        text-align: right;\n",
              "    }\n",
              "</style>\n",
              "<table border=\"1\" class=\"dataframe\">\n",
              "  <thead>\n",
              "    <tr style=\"text-align: right;\">\n",
              "      <th></th>\n",
              "      <th>battery_power</th>\n",
              "      <th>blue</th>\n",
              "      <th>clock_speed</th>\n",
              "      <th>dual_sim</th>\n",
              "      <th>fc</th>\n",
              "      <th>four_g</th>\n",
              "      <th>int_memory</th>\n",
              "      <th>m_dep</th>\n",
              "      <th>mobile_wt</th>\n",
              "      <th>n_cores</th>\n",
              "      <th>pc</th>\n",
              "      <th>px_height</th>\n",
              "      <th>px_width</th>\n",
              "      <th>ram</th>\n",
              "      <th>sc_h</th>\n",
              "      <th>sc_w</th>\n",
              "      <th>talk_time</th>\n",
              "      <th>three_g</th>\n",
              "      <th>touch_screen</th>\n",
              "      <th>wifi</th>\n",
              "      <th>price_range</th>\n",
              "    </tr>\n",
              "  </thead>\n",
              "  <tbody>\n",
              "    <tr>\n",
              "      <th>0</th>\n",
              "      <td>842</td>\n",
              "      <td>0</td>\n",
              "      <td>2.2</td>\n",
              "      <td>0</td>\n",
              "      <td>1.0000</td>\n",
              "      <td>0</td>\n",
              "      <td>7</td>\n",
              "      <td>0.6</td>\n",
              "      <td>188</td>\n",
              "      <td>2</td>\n",
              "      <td>2.0</td>\n",
              "      <td>20.0</td>\n",
              "      <td>756</td>\n",
              "      <td>2549</td>\n",
              "      <td>9</td>\n",
              "      <td>7.0</td>\n",
              "      <td>19</td>\n",
              "      <td>0</td>\n",
              "      <td>0</td>\n",
              "      <td>1</td>\n",
              "      <td>1</td>\n",
              "    </tr>\n",
              "    <tr>\n",
              "      <th>1</th>\n",
              "      <td>1021</td>\n",
              "      <td>1</td>\n",
              "      <td>0.5</td>\n",
              "      <td>1</td>\n",
              "      <td>5.6481</td>\n",
              "      <td>1</td>\n",
              "      <td>53</td>\n",
              "      <td>0.7</td>\n",
              "      <td>136</td>\n",
              "      <td>3</td>\n",
              "      <td>6.0</td>\n",
              "      <td>905.0</td>\n",
              "      <td>1988</td>\n",
              "      <td>2631</td>\n",
              "      <td>17</td>\n",
              "      <td>3.0</td>\n",
              "      <td>7</td>\n",
              "      <td>1</td>\n",
              "      <td>1</td>\n",
              "      <td>0</td>\n",
              "      <td>2</td>\n",
              "    </tr>\n",
              "    <tr>\n",
              "      <th>2</th>\n",
              "      <td>563</td>\n",
              "      <td>1</td>\n",
              "      <td>0.5</td>\n",
              "      <td>1</td>\n",
              "      <td>2.0000</td>\n",
              "      <td>1</td>\n",
              "      <td>41</td>\n",
              "      <td>0.9</td>\n",
              "      <td>145</td>\n",
              "      <td>5</td>\n",
              "      <td>6.0</td>\n",
              "      <td>1263.0</td>\n",
              "      <td>1716</td>\n",
              "      <td>2603</td>\n",
              "      <td>11</td>\n",
              "      <td>2.0</td>\n",
              "      <td>9</td>\n",
              "      <td>1</td>\n",
              "      <td>1</td>\n",
              "      <td>0</td>\n",
              "      <td>2</td>\n",
              "    </tr>\n",
              "    <tr>\n",
              "      <th>3</th>\n",
              "      <td>615</td>\n",
              "      <td>1</td>\n",
              "      <td>2.5</td>\n",
              "      <td>0</td>\n",
              "      <td>5.6481</td>\n",
              "      <td>0</td>\n",
              "      <td>10</td>\n",
              "      <td>0.8</td>\n",
              "      <td>131</td>\n",
              "      <td>6</td>\n",
              "      <td>9.0</td>\n",
              "      <td>1216.0</td>\n",
              "      <td>1786</td>\n",
              "      <td>2769</td>\n",
              "      <td>16</td>\n",
              "      <td>8.0</td>\n",
              "      <td>11</td>\n",
              "      <td>1</td>\n",
              "      <td>0</td>\n",
              "      <td>0</td>\n",
              "      <td>2</td>\n",
              "    </tr>\n",
              "    <tr>\n",
              "      <th>4</th>\n",
              "      <td>1821</td>\n",
              "      <td>1</td>\n",
              "      <td>1.2</td>\n",
              "      <td>0</td>\n",
              "      <td>13.0000</td>\n",
              "      <td>1</td>\n",
              "      <td>44</td>\n",
              "      <td>0.6</td>\n",
              "      <td>141</td>\n",
              "      <td>2</td>\n",
              "      <td>14.0</td>\n",
              "      <td>1208.0</td>\n",
              "      <td>1212</td>\n",
              "      <td>1411</td>\n",
              "      <td>8</td>\n",
              "      <td>2.0</td>\n",
              "      <td>15</td>\n",
              "      <td>1</td>\n",
              "      <td>1</td>\n",
              "      <td>0</td>\n",
              "      <td>1</td>\n",
              "    </tr>\n",
              "    <tr>\n",
              "      <th>...</th>\n",
              "      <td>...</td>\n",
              "      <td>...</td>\n",
              "      <td>...</td>\n",
              "      <td>...</td>\n",
              "      <td>...</td>\n",
              "      <td>...</td>\n",
              "      <td>...</td>\n",
              "      <td>...</td>\n",
              "      <td>...</td>\n",
              "      <td>...</td>\n",
              "      <td>...</td>\n",
              "      <td>...</td>\n",
              "      <td>...</td>\n",
              "      <td>...</td>\n",
              "      <td>...</td>\n",
              "      <td>...</td>\n",
              "      <td>...</td>\n",
              "      <td>...</td>\n",
              "      <td>...</td>\n",
              "      <td>...</td>\n",
              "      <td>...</td>\n",
              "    </tr>\n",
              "    <tr>\n",
              "      <th>1995</th>\n",
              "      <td>794</td>\n",
              "      <td>1</td>\n",
              "      <td>0.5</td>\n",
              "      <td>1</td>\n",
              "      <td>5.6481</td>\n",
              "      <td>1</td>\n",
              "      <td>2</td>\n",
              "      <td>0.8</td>\n",
              "      <td>106</td>\n",
              "      <td>6</td>\n",
              "      <td>14.0</td>\n",
              "      <td>1222.0</td>\n",
              "      <td>1890</td>\n",
              "      <td>668</td>\n",
              "      <td>13</td>\n",
              "      <td>4.0</td>\n",
              "      <td>19</td>\n",
              "      <td>1</td>\n",
              "      <td>1</td>\n",
              "      <td>0</td>\n",
              "      <td>0</td>\n",
              "    </tr>\n",
              "    <tr>\n",
              "      <th>1996</th>\n",
              "      <td>1965</td>\n",
              "      <td>1</td>\n",
              "      <td>2.6</td>\n",
              "      <td>1</td>\n",
              "      <td>5.6481</td>\n",
              "      <td>0</td>\n",
              "      <td>39</td>\n",
              "      <td>0.2</td>\n",
              "      <td>187</td>\n",
              "      <td>4</td>\n",
              "      <td>3.0</td>\n",
              "      <td>915.0</td>\n",
              "      <td>1965</td>\n",
              "      <td>2032</td>\n",
              "      <td>11</td>\n",
              "      <td>10.0</td>\n",
              "      <td>16</td>\n",
              "      <td>1</td>\n",
              "      <td>1</td>\n",
              "      <td>1</td>\n",
              "      <td>2</td>\n",
              "    </tr>\n",
              "    <tr>\n",
              "      <th>1997</th>\n",
              "      <td>1911</td>\n",
              "      <td>0</td>\n",
              "      <td>0.9</td>\n",
              "      <td>1</td>\n",
              "      <td>1.0000</td>\n",
              "      <td>1</td>\n",
              "      <td>36</td>\n",
              "      <td>0.7</td>\n",
              "      <td>108</td>\n",
              "      <td>8</td>\n",
              "      <td>3.0</td>\n",
              "      <td>868.0</td>\n",
              "      <td>1632</td>\n",
              "      <td>3057</td>\n",
              "      <td>9</td>\n",
              "      <td>1.0</td>\n",
              "      <td>5</td>\n",
              "      <td>1</td>\n",
              "      <td>1</td>\n",
              "      <td>0</td>\n",
              "      <td>3</td>\n",
              "    </tr>\n",
              "    <tr>\n",
              "      <th>1998</th>\n",
              "      <td>1512</td>\n",
              "      <td>0</td>\n",
              "      <td>0.9</td>\n",
              "      <td>0</td>\n",
              "      <td>4.0000</td>\n",
              "      <td>1</td>\n",
              "      <td>46</td>\n",
              "      <td>0.1</td>\n",
              "      <td>145</td>\n",
              "      <td>5</td>\n",
              "      <td>5.0</td>\n",
              "      <td>336.0</td>\n",
              "      <td>670</td>\n",
              "      <td>869</td>\n",
              "      <td>18</td>\n",
              "      <td>10.0</td>\n",
              "      <td>19</td>\n",
              "      <td>1</td>\n",
              "      <td>1</td>\n",
              "      <td>1</td>\n",
              "      <td>0</td>\n",
              "    </tr>\n",
              "    <tr>\n",
              "      <th>1999</th>\n",
              "      <td>510</td>\n",
              "      <td>1</td>\n",
              "      <td>2.0</td>\n",
              "      <td>1</td>\n",
              "      <td>5.0000</td>\n",
              "      <td>1</td>\n",
              "      <td>45</td>\n",
              "      <td>0.9</td>\n",
              "      <td>168</td>\n",
              "      <td>6</td>\n",
              "      <td>16.0</td>\n",
              "      <td>483.0</td>\n",
              "      <td>754</td>\n",
              "      <td>3919</td>\n",
              "      <td>19</td>\n",
              "      <td>4.0</td>\n",
              "      <td>2</td>\n",
              "      <td>1</td>\n",
              "      <td>1</td>\n",
              "      <td>1</td>\n",
              "      <td>3</td>\n",
              "    </tr>\n",
              "  </tbody>\n",
              "</table>\n",
              "<p>2000 rows × 21 columns</p>\n",
              "</div>\n",
              "      <button class=\"colab-df-convert\" onclick=\"convertToInteractive('df-493cbc19-0fd9-4262-8b09-077990ade7d2')\"\n",
              "              title=\"Convert this dataframe to an interactive table.\"\n",
              "              style=\"display:none;\">\n",
              "        \n",
              "  <svg xmlns=\"http://www.w3.org/2000/svg\" height=\"24px\"viewBox=\"0 0 24 24\"\n",
              "       width=\"24px\">\n",
              "    <path d=\"M0 0h24v24H0V0z\" fill=\"none\"/>\n",
              "    <path d=\"M18.56 5.44l.94 2.06.94-2.06 2.06-.94-2.06-.94-.94-2.06-.94 2.06-2.06.94zm-11 1L8.5 8.5l.94-2.06 2.06-.94-2.06-.94L8.5 2.5l-.94 2.06-2.06.94zm10 10l.94 2.06.94-2.06 2.06-.94-2.06-.94-.94-2.06-.94 2.06-2.06.94z\"/><path d=\"M17.41 7.96l-1.37-1.37c-.4-.4-.92-.59-1.43-.59-.52 0-1.04.2-1.43.59L10.3 9.45l-7.72 7.72c-.78.78-.78 2.05 0 2.83L4 21.41c.39.39.9.59 1.41.59.51 0 1.02-.2 1.41-.59l7.78-7.78 2.81-2.81c.8-.78.8-2.07 0-2.86zM5.41 20L4 18.59l7.72-7.72 1.47 1.35L5.41 20z\"/>\n",
              "  </svg>\n",
              "      </button>\n",
              "      \n",
              "  <style>\n",
              "    .colab-df-container {\n",
              "      display:flex;\n",
              "      flex-wrap:wrap;\n",
              "      gap: 12px;\n",
              "    }\n",
              "\n",
              "    .colab-df-convert {\n",
              "      background-color: #E8F0FE;\n",
              "      border: none;\n",
              "      border-radius: 50%;\n",
              "      cursor: pointer;\n",
              "      display: none;\n",
              "      fill: #1967D2;\n",
              "      height: 32px;\n",
              "      padding: 0 0 0 0;\n",
              "      width: 32px;\n",
              "    }\n",
              "\n",
              "    .colab-df-convert:hover {\n",
              "      background-color: #E2EBFA;\n",
              "      box-shadow: 0px 1px 2px rgba(60, 64, 67, 0.3), 0px 1px 3px 1px rgba(60, 64, 67, 0.15);\n",
              "      fill: #174EA6;\n",
              "    }\n",
              "\n",
              "    [theme=dark] .colab-df-convert {\n",
              "      background-color: #3B4455;\n",
              "      fill: #D2E3FC;\n",
              "    }\n",
              "\n",
              "    [theme=dark] .colab-df-convert:hover {\n",
              "      background-color: #434B5C;\n",
              "      box-shadow: 0px 1px 3px 1px rgba(0, 0, 0, 0.15);\n",
              "      filter: drop-shadow(0px 1px 2px rgba(0, 0, 0, 0.3));\n",
              "      fill: #FFFFFF;\n",
              "    }\n",
              "  </style>\n",
              "\n",
              "      <script>\n",
              "        const buttonEl =\n",
              "          document.querySelector('#df-493cbc19-0fd9-4262-8b09-077990ade7d2 button.colab-df-convert');\n",
              "        buttonEl.style.display =\n",
              "          google.colab.kernel.accessAllowed ? 'block' : 'none';\n",
              "\n",
              "        async function convertToInteractive(key) {\n",
              "          const element = document.querySelector('#df-493cbc19-0fd9-4262-8b09-077990ade7d2');\n",
              "          const dataTable =\n",
              "            await google.colab.kernel.invokeFunction('convertToInteractive',\n",
              "                                                     [key], {});\n",
              "          if (!dataTable) return;\n",
              "\n",
              "          const docLinkHtml = 'Like what you see? Visit the ' +\n",
              "            '<a target=\"_blank\" href=https://colab.research.google.com/notebooks/data_table.ipynb>data table notebook</a>'\n",
              "            + ' to learn more about interactive tables.';\n",
              "          element.innerHTML = '';\n",
              "          dataTable['output_type'] = 'display_data';\n",
              "          await google.colab.output.renderOutput(dataTable, element);\n",
              "          const docLink = document.createElement('div');\n",
              "          docLink.innerHTML = docLinkHtml;\n",
              "          element.appendChild(docLink);\n",
              "        }\n",
              "      </script>\n",
              "    </div>\n",
              "  </div>\n",
              "  "
            ]
          },
          "metadata": {},
          "execution_count": 46
        }
      ]
    },
    {
      "cell_type": "markdown",
      "source": [
        "Before the analysis I have removed the all impossible values with the mean value of that relevant variable. Missing values handling creates a proper dataset and the conclusions become more reliable."
      ],
      "metadata": {
        "id": "aIwfSfFXXW_z"
      }
    },
    {
      "cell_type": "markdown",
      "source": [
        "**4.4 Handling missing values**"
      ],
      "metadata": {
        "id": "It6bGM6hqj1l"
      }
    },
    {
      "cell_type": "code",
      "source": [
        "#check for missing values\n",
        "Total = df_mobile.isnull().sum().sort_values(ascending = False)  \n",
        "Percent = (df_mobile.isnull().sum()*100/df_mobile.isnull().count()).sort_values(ascending = False) \n",
        "missing_data = pd.concat([Total, Percent], axis = 1, keys = ['Total', 'Percentage of Missing Values'])    \n",
        "missing_data\n",
        "sns.heatmap(df_mobile.isnull(), cbar=False)\n",
        "\n",
        "# display the plot\n",
        "plt.show()"
      ],
      "metadata": {
        "colab": {
          "base_uri": "https://localhost:8080/",
          "height": 343
        },
        "id": "3NDewVxekop4",
        "outputId": "f75090fd-7667-4119-ced5-3b868157787f"
      },
      "execution_count": null,
      "outputs": [
        {
          "output_type": "display_data",
          "data": {
            "text/plain": [
              "<Figure size 432x288 with 1 Axes>"
            ],
            "image/png": "[encoded data removed]"
          },
          "metadata": {
            "needs_background": "light"
          }
        }
      ]
    },
    {
      "cell_type": "markdown",
      "source": [
        "There is no any missing values. So now our dataset is a proper one for futher calculations. "
      ],
      "metadata": {
        "id": "b4BKE1vzk5qa"
      }
    },
    {
      "cell_type": "markdown",
      "source": [
        "**4.5.Distribution of variables**\n",
        "\n",
        "***4.5.1.Split variables***\n",
        "\n",
        "\n",
        "\n",
        "\n"
      ],
      "metadata": {
        "id": "7VsKJ5YdrBCP"
      }
    },
    {
      "cell_type": "code",
      "source": [
        "#split other variables with target variable mobile price (price_range)\n",
        "df_features = df_mobile.iloc[:, df_mobile.columns != 'price_range']   #split independent variables\n",
        "df_numerical=df_features.loc[:, ~df_features.columns.isin(['blue','dual_sim','four_g','dual_sim','three_g','touch_screen','wifi'])] #split numerical variables\n",
        "df_target = df_mobile.iloc[:, df_mobile.columns == 'price_range']\n"
      ],
      "metadata": {
        "id": "T2IRDVxgz6GB"
      },
      "execution_count": null,
      "outputs": []
    },
    {
      "cell_type": "markdown",
      "source": [
        "Here I want to campare target variable with other variables. Main purpose this is to  clarify what are the other variables which highly affact to target output."
      ],
      "metadata": {
        "id": "4JHjIvwY0f7I"
      }
    },
    {
      "cell_type": "markdown",
      "source": [
        "***4.5.1.Distribution of numerical independent variables***"
      ],
      "metadata": {
        "id": "JUzz4p61rfwS"
      }
    },
    {
      "cell_type": "code",
      "source": [
        "#find out the distribution of the variables\n",
        "df_numerical.hist()      #by default this will only consider the numerical independent variables\n",
        "plt.rcParams['figure.figsize'] = [10,10]\n",
        "plt.tight_layout()\n",
        "plt.show() "
      ],
      "metadata": {
        "colab": {
          "base_uri": "https://localhost:8080/",
          "height": 297
        },
        "id": "3c74uHKx05gs",
        "outputId": "f6b6e313-4765-43ab-8c48-338ff61b3372"
      },
      "execution_count": null,
      "outputs": [
        {
          "output_type": "display_data",
          "data": {
            "text/plain": [
              "<Figure size 432x288 with 16 Axes>"
            ],
            "image/png": "[encoded data removed]"
          },
          "metadata": {
            "needs_background": "light"
          }
        }
      ]
    },
    {
      "cell_type": "markdown",
      "source": [
        "**Interpretation** - Most of the distributions of variables are random but the distribution of the variables named fc, px_height, sc_w are positively skewned. "
      ],
      "metadata": {
        "id": "CfYHTkDlu_OI"
      }
    },
    {
      "cell_type": "markdown",
      "source": [
        "***4.5.1.Distribution of dependent variables***"
      ],
      "metadata": {
        "id": "j8WlCvBPrr4l"
      }
    },
    {
      "cell_type": "code",
      "source": [
        "#frequency of dependent variable \n",
        "\n",
        "dependent_frequency = df_target.price_range.value_counts()    # get counts of 0's, 1's, 2's and 3's in the 'price_range' variable using 'value_counts()'\n",
        "dependent_frequency                                  "
      ],
      "metadata": {
        "colab": {
          "base_uri": "https://localhost:8080/"
        },
        "id": "zll1_cniT6n7",
        "outputId": "925a49de-a790-4b65-af54-73aae4e12ad9"
      },
      "execution_count": null,
      "outputs": [
        {
          "output_type": "execute_result",
          "data": {
            "text/plain": [
              "1    500\n",
              "2    500\n",
              "3    500\n",
              "0    500\n",
              "Name: price_range, dtype: int64"
            ]
          },
          "metadata": {},
          "execution_count": 50
        }
      ]
    },
    {
      "cell_type": "markdown",
      "source": [
        "**Interpretation** - There are same number of data for the each range of price range. "
      ],
      "metadata": {
        "id": "0Z81WP3evjDT"
      }
    },
    {
      "cell_type": "code",
      "source": [
        "#distribution of dependent variable according to the range\n",
        "sns.countplot(x = df_target.price_range)\n",
        "\n",
        "# print the values in the graph\n",
        "# 'x' and 'y' gives position of the text\n",
        "# 's' is the text on the plot\n",
        "plt.text(x = -0.05, y = df_target.price_range.value_counts()[0], s = str((dependent_frequency[0])*100/len(df_target.price_range)) + '%')\n",
        "plt.text(x = 0.95, y = df_target.price_range.value_counts()[1], s = str((dependent_frequency[1])*100/len(df_target.price_range)) + '%')\n",
        "plt.text(x = 1.95, y = df_target.price_range.value_counts()[2], s = str((dependent_frequency[2])*100/len(df_target.price_range)) + '%')\n",
        "plt.text(x = 2.95, y = df_target.price_range.value_counts()[3], s = str((dependent_frequency[3])*100/len(df_target.price_range)) + '%')\n",
        "\n",
        "# add plot and axes labels\n",
        "plt.title('Count Plot for Target Variable (price_range)', fontsize = 15)\n",
        "plt.xlabel('Target Variable', fontsize = 15)\n",
        "plt.ylabel('Count', fontsize = 15)\n",
        "\n",
        "# to show the plot\n",
        "plt.show()"
      ],
      "metadata": {
        "colab": {
          "base_uri": "https://localhost:8080/",
          "height": 631
        },
        "id": "KO2YhHyOUqLr",
        "outputId": "46672457-1d30-4056-b1bb-15a154022f5a"
      },
      "execution_count": null,
      "outputs": [
        {
          "output_type": "display_data",
          "data": {
            "text/plain": [
              "<Figure size 720x720 with 1 Axes>"
            ],
            "image/png": "[encoded data removed]"
          },
          "metadata": {
            "needs_background": "light"
          }
        }
      ]
    },
    {
      "cell_type": "markdown",
      "source": [
        "**Interpretation** - There are same number of data for the each range of price range. "
      ],
      "metadata": {
        "id": "BQFdOk-Hv3Hs"
      }
    },
    {
      "cell_type": "markdown",
      "source": [
        "**4.6. Correlation**"
      ],
      "metadata": {
        "id": "sSks5N_5sPTB"
      }
    },
    {
      "cell_type": "code",
      "source": [
        "#find the correlation of price range with other features\n",
        "corrmat = df_mobile.corr()\n",
        "corrmat"
      ],
      "metadata": {
        "id": "I8hvZkOIWKqj",
        "colab": {
          "base_uri": "https://localhost:8080/",
          "height": 772
        },
        "outputId": "07f15719-5835-4c8c-fb0b-cea179b907c5"
      },
      "execution_count": null,
      "outputs": [
        {
          "output_type": "execute_result",
          "data": {
            "text/plain": [
              "               battery_power      blue  clock_speed  dual_sim        fc  \\\n",
              "battery_power       1.000000  0.011252     0.011482 -0.041847  0.029019   \n",
              "blue                0.011252  1.000000     0.021419  0.035198  0.012704   \n",
              "clock_speed         0.011482  0.021419     1.000000 -0.001315  0.006041   \n",
              "dual_sim           -0.041847  0.035198    -0.001315  1.000000 -0.020124   \n",
              "fc                  0.029019  0.012704     0.006041 -0.020124  1.000000   \n",
              "four_g              0.015665  0.013443    -0.043073  0.003187  0.003276   \n",
              "int_memory         -0.004004  0.041177     0.006545 -0.015679 -0.032007   \n",
              "m_dep               0.034085  0.004049    -0.014364 -0.022142 -0.027696   \n",
              "mobile_wt           0.001844 -0.008605     0.012350 -0.008979  0.009174   \n",
              "n_cores            -0.029727  0.036161    -0.005724 -0.024658 -0.003644   \n",
              "pc                  0.037947 -0.005156    -0.011531 -0.026806  0.490812   \n",
              "px_height           0.015338 -0.006865    -0.013596 -0.022382  0.003630   \n",
              "px_width           -0.008402 -0.041533    -0.009476  0.014291  0.002183   \n",
              "ram                -0.000653  0.026351     0.003443  0.041072  0.000828   \n",
              "sc_h               -0.029959 -0.002952    -0.029078 -0.011949 -0.015130   \n",
              "sc_w               -0.021325 -0.025094    -0.003510 -0.003460 -0.024740   \n",
              "talk_time           0.052510  0.013934    -0.011432 -0.039404 -0.001079   \n",
              "three_g             0.011522 -0.030236    -0.046433 -0.014008  0.022405   \n",
              "touch_screen       -0.010516  0.010061     0.019756 -0.017117 -0.002838   \n",
              "wifi               -0.008343 -0.021863    -0.024471  0.022740  0.014242   \n",
              "price_range         0.200723  0.020573    -0.006606  0.017444  0.011738   \n",
              "\n",
              "                 four_g  int_memory     m_dep  mobile_wt   n_cores        pc  \\\n",
              "battery_power  0.015665   -0.004004  0.034085   0.001844 -0.029727  0.037947   \n",
              "blue           0.013443    0.041177  0.004049  -0.008605  0.036161 -0.005156   \n",
              "clock_speed   -0.043073    0.006545 -0.014364   0.012350 -0.005724 -0.011531   \n",
              "dual_sim       0.003187   -0.015679 -0.022142  -0.008979 -0.024658 -0.026806   \n",
              "fc             0.003276   -0.032007 -0.027696   0.009174 -0.003644  0.490812   \n",
              "four_g         1.000000    0.008690 -0.001823  -0.016537 -0.029706  0.005737   \n",
              "int_memory     0.008690    1.000000  0.006886  -0.034214 -0.028310 -0.039603   \n",
              "m_dep         -0.001823    0.006886  1.000000   0.021756 -0.003504  0.020068   \n",
              "mobile_wt     -0.016537   -0.034214  0.021756   1.000000 -0.018989  0.011592   \n",
              "n_cores       -0.029706   -0.028310 -0.003504  -0.018989  1.000000  0.000513   \n",
              "pc             0.005737   -0.039603  0.020068   0.011592  0.000513  1.000000   \n",
              "px_height     -0.017861    0.009565  0.024523   0.000374 -0.005937 -0.010179   \n",
              "px_width       0.007448   -0.008335  0.023566   0.000090  0.024480  0.001287   \n",
              "ram            0.007313    0.032813 -0.009434  -0.002581  0.004868  0.013346   \n",
              "sc_h           0.027166    0.037771 -0.025348  -0.033855 -0.000315 -0.005919   \n",
              "sc_w           0.031298    0.005431 -0.010831  -0.036691  0.020468 -0.012094   \n",
              "talk_time     -0.046628   -0.002790  0.017003   0.006209  0.013148  0.003038   \n",
              "three_g        0.584246   -0.009366 -0.012065   0.001551 -0.014733  0.011860   \n",
              "touch_screen   0.016758   -0.026999 -0.002638  -0.014368  0.023774 -0.009073   \n",
              "wifi          -0.017620    0.006993 -0.028353  -0.000409 -0.009964 -0.009448   \n",
              "price_range    0.014772    0.044435  0.000853  -0.030302  0.004399  0.018395   \n",
              "\n",
              "               px_height  px_width       ram      sc_h      sc_w  talk_time  \\\n",
              "battery_power   0.015338 -0.008402 -0.000653 -0.029959 -0.021325   0.052510   \n",
              "blue           -0.006865 -0.041533  0.026351 -0.002952 -0.025094   0.013934   \n",
              "clock_speed    -0.013596 -0.009476  0.003443 -0.029078 -0.003510  -0.011432   \n",
              "dual_sim       -0.022382  0.014291  0.041072 -0.011949 -0.003460  -0.039404   \n",
              "fc              0.003630  0.002183  0.000828 -0.015130 -0.024740  -0.001079   \n",
              "four_g         -0.017861  0.007448  0.007313  0.027166  0.031298  -0.046628   \n",
              "int_memory      0.009565 -0.008335  0.032813  0.037771  0.005431  -0.002790   \n",
              "m_dep           0.024523  0.023566 -0.009434 -0.025348 -0.010831   0.017003   \n",
              "mobile_wt       0.000374  0.000090 -0.002581 -0.033855 -0.036691   0.006209   \n",
              "n_cores        -0.005937  0.024480  0.004868 -0.000315  0.020468   0.013148   \n",
              "pc             -0.010179  0.001287  0.013346 -0.005919 -0.012094   0.003038   \n",
              "px_height       1.000000  0.512012 -0.019432  0.058881  0.041808  -0.010526   \n",
              "px_width        0.512012  1.000000  0.004105  0.021599  0.034220   0.006720   \n",
              "ram            -0.019432  0.004105  1.000000  0.015996  0.026829   0.010820   \n",
              "sc_h            0.058881  0.021599  0.015996  1.000000  0.494743  -0.017335   \n",
              "sc_w            0.041808  0.034220  0.026829  0.494743  1.000000  -0.024072   \n",
              "talk_time      -0.010526  0.006720  0.010820 -0.017335 -0.024072   1.000000   \n",
              "three_g        -0.030391  0.000350  0.015795  0.012033  0.035779  -0.042688   \n",
              "touch_screen    0.023363 -0.001628 -0.030455 -0.020023  0.000322   0.017196   \n",
              "wifi            0.050401  0.030319  0.022669  0.025929  0.020939  -0.029504   \n",
              "price_range     0.149667  0.165818  0.917046  0.022986  0.030411   0.021859   \n",
              "\n",
              "                three_g  touch_screen      wifi  price_range  \n",
              "battery_power  0.011522     -0.010516 -0.008343     0.200723  \n",
              "blue          -0.030236      0.010061 -0.021863     0.020573  \n",
              "clock_speed   -0.046433      0.019756 -0.024471    -0.006606  \n",
              "dual_sim      -0.014008     -0.017117  0.022740     0.017444  \n",
              "fc             0.022405     -0.002838  0.014242     0.011738  \n",
              "four_g         0.584246      0.016758 -0.017620     0.014772  \n",
              "int_memory    -0.009366     -0.026999  0.006993     0.044435  \n",
              "m_dep         -0.012065     -0.002638 -0.028353     0.000853  \n",
              "mobile_wt      0.001551     -0.014368 -0.000409    -0.030302  \n",
              "n_cores       -0.014733      0.023774 -0.009964     0.004399  \n",
              "pc             0.011860     -0.009073 -0.009448     0.018395  \n",
              "px_height     -0.030391      0.023363  0.050401     0.149667  \n",
              "px_width       0.000350     -0.001628  0.030319     0.165818  \n",
              "ram            0.015795     -0.030455  0.022669     0.917046  \n",
              "sc_h           0.012033     -0.020023  0.025929     0.022986  \n",
              "sc_w           0.035779      0.000322  0.020939     0.030411  \n",
              "talk_time     -0.042688      0.017196 -0.029504     0.021859  \n",
              "three_g        1.000000      0.013917  0.004316     0.023611  \n",
              "touch_screen   0.013917      1.000000  0.011917    -0.030411  \n",
              "wifi           0.004316      0.011917  1.000000     0.018785  \n",
              "price_range    0.023611     -0.030411  0.018785     1.000000  "
            ],
            "text/html": [
              "\n",
              "  <div id=\"df-38c6f0f5-06b1-4405-af76-e43aea6c0d39\">\n",
              "    <div class=\"colab-df-container\">\n",
              "      <div>\n",
              "<style scoped>\n",
              "    .dataframe tbody tr th:only-of-type {\n",
              "        vertical-align: middle;\n",
              "    }\n",
              "\n",
              "    .dataframe tbody tr th {\n",
              "        vertical-align: top;\n",
              "    }\n",
              "\n",
              "    .dataframe thead th {\n",
              "        text-align: right;\n",
              "    }\n",
              "</style>\n",
              "<table border=\"1\" class=\"dataframe\">\n",
              "  <thead>\n",
              "    <tr style=\"text-align: right;\">\n",
              "      <th></th>\n",
              "      <th>battery_power</th>\n",
              "      <th>blue</th>\n",
              "      <th>clock_speed</th>\n",
              "      <th>dual_sim</th>\n",
              "      <th>fc</th>\n",
              "      <th>four_g</th>\n",
              "      <th>int_memory</th>\n",
              "      <th>m_dep</th>\n",
              "      <th>mobile_wt</th>\n",
              "      <th>n_cores</th>\n",
              "      <th>pc</th>\n",
              "      <th>px_height</th>\n",
              "      <th>px_width</th>\n",
              "      <th>ram</th>\n",
              "      <th>sc_h</th>\n",
              "      <th>sc_w</th>\n",
              "      <th>talk_time</th>\n",
              "      <th>three_g</th>\n",
              "      <th>touch_screen</th>\n",
              "      <th>wifi</th>\n",
              "      <th>price_range</th>\n",
              "    </tr>\n",
              "  </thead>\n",
              "  <tbody>\n",
              "    <tr>\n",
              "      <th>battery_power</th>\n",
              "      <td>1.000000</td>\n",
              "      <td>0.011252</td>\n",
              "      <td>0.011482</td>\n",
              "      <td>-0.041847</td>\n",
              "      <td>0.029019</td>\n",
              "      <td>0.015665</td>\n",
              "      <td>-0.004004</td>\n",
              "      <td>0.034085</td>\n",
              "      <td>0.001844</td>\n",
              "      <td>-0.029727</td>\n",
              "      <td>0.037947</td>\n",
              "      <td>0.015338</td>\n",
              "      <td>-0.008402</td>\n",
              "      <td>-0.000653</td>\n",
              "      <td>-0.029959</td>\n",
              "      <td>-0.021325</td>\n",
              "      <td>0.052510</td>\n",
              "      <td>0.011522</td>\n",
              "      <td>-0.010516</td>\n",
              "      <td>-0.008343</td>\n",
              "      <td>0.200723</td>\n",
              "    </tr>\n",
              "    <tr>\n",
              "      <th>blue</th>\n",
              "      <td>0.011252</td>\n",
              "      <td>1.000000</td>\n",
              "      <td>0.021419</td>\n",
              "      <td>0.035198</td>\n",
              "      <td>0.012704</td>\n",
              "      <td>0.013443</td>\n",
              "      <td>0.041177</td>\n",
              "      <td>0.004049</td>\n",
              "      <td>-0.008605</td>\n",
              "      <td>0.036161</td>\n",
              "      <td>-0.005156</td>\n",
              "      <td>-0.006865</td>\n",
              "      <td>-0.041533</td>\n",
              "      <td>0.026351</td>\n",
              "      <td>-0.002952</td>\n",
              "      <td>-0.025094</td>\n",
              "      <td>0.013934</td>\n",
              "      <td>-0.030236</td>\n",
              "      <td>0.010061</td>\n",
              "      <td>-0.021863</td>\n",
              "      <td>0.020573</td>\n",
              "    </tr>\n",
              "    <tr>\n",
              "      <th>clock_speed</th>\n",
              "      <td>0.011482</td>\n",
              "      <td>0.021419</td>\n",
              "      <td>1.000000</td>\n",
              "      <td>-0.001315</td>\n",
              "      <td>0.006041</td>\n",
              "      <td>-0.043073</td>\n",
              "      <td>0.006545</td>\n",
              "      <td>-0.014364</td>\n",
              "      <td>0.012350</td>\n",
              "      <td>-0.005724</td>\n",
              "      <td>-0.011531</td>\n",
              "      <td>-0.013596</td>\n",
              "      <td>-0.009476</td>\n",
              "      <td>0.003443</td>\n",
              "      <td>-0.029078</td>\n",
              "      <td>-0.003510</td>\n",
              "      <td>-0.011432</td>\n",
              "      <td>-0.046433</td>\n",
              "      <td>0.019756</td>\n",
              "      <td>-0.024471</td>\n",
              "      <td>-0.006606</td>\n",
              "    </tr>\n",
              "    <tr>\n",
              "      <th>dual_sim</th>\n",
              "      <td>-0.041847</td>\n",
              "      <td>0.035198</td>\n",
              "      <td>-0.001315</td>\n",
              "      <td>1.000000</td>\n",
              "      <td>-0.020124</td>\n",
              "      <td>0.003187</td>\n",
              "      <td>-0.015679</td>\n",
              "      <td>-0.022142</td>\n",
              "      <td>-0.008979</td>\n",
              "      <td>-0.024658</td>\n",
              "      <td>-0.026806</td>\n",
              "      <td>-0.022382</td>\n",
              "      <td>0.014291</td>\n",
              "      <td>0.041072</td>\n",
              "      <td>-0.011949</td>\n",
              "      <td>-0.003460</td>\n",
              "      <td>-0.039404</td>\n",
              "      <td>-0.014008</td>\n",
              "      <td>-0.017117</td>\n",
              "      <td>0.022740</td>\n",
              "      <td>0.017444</td>\n",
              "    </tr>\n",
              "    <tr>\n",
              "      <th>fc</th>\n",
              "      <td>0.029019</td>\n",
              "      <td>0.012704</td>\n",
              "      <td>0.006041</td>\n",
              "      <td>-0.020124</td>\n",
              "      <td>1.000000</td>\n",
              "      <td>0.003276</td>\n",
              "      <td>-0.032007</td>\n",
              "      <td>-0.027696</td>\n",
              "      <td>0.009174</td>\n",
              "      <td>-0.003644</td>\n",
              "      <td>0.490812</td>\n",
              "      <td>0.003630</td>\n",
              "      <td>0.002183</td>\n",
              "      <td>0.000828</td>\n",
              "      <td>-0.015130</td>\n",
              "      <td>-0.024740</td>\n",
              "      <td>-0.001079</td>\n",
              "      <td>0.022405</td>\n",
              "      <td>-0.002838</td>\n",
              "      <td>0.014242</td>\n",
              "      <td>0.011738</td>\n",
              "    </tr>\n",
              "    <tr>\n",
              "      <th>four_g</th>\n",
              "      <td>0.015665</td>\n",
              "      <td>0.013443</td>\n",
              "      <td>-0.043073</td>\n",
              "      <td>0.003187</td>\n",
              "      <td>0.003276</td>\n",
              "      <td>1.000000</td>\n",
              "      <td>0.008690</td>\n",
              "      <td>-0.001823</td>\n",
              "      <td>-0.016537</td>\n",
              "      <td>-0.029706</td>\n",
              "      <td>0.005737</td>\n",
              "      <td>-0.017861</td>\n",
              "      <td>0.007448</td>\n",
              "      <td>0.007313</td>\n",
              "      <td>0.027166</td>\n",
              "      <td>0.031298</td>\n",
              "      <td>-0.046628</td>\n",
              "      <td>0.584246</td>\n",
              "      <td>0.016758</td>\n",
              "      <td>-0.017620</td>\n",
              "      <td>0.014772</td>\n",
              "    </tr>\n",
              "    <tr>\n",
              "      <th>int_memory</th>\n",
              "      <td>-0.004004</td>\n",
              "      <td>0.041177</td>\n",
              "      <td>0.006545</td>\n",
              "      <td>-0.015679</td>\n",
              "      <td>-0.032007</td>\n",
              "      <td>0.008690</td>\n",
              "      <td>1.000000</td>\n",
              "      <td>0.006886</td>\n",
              "      <td>-0.034214</td>\n",
              "      <td>-0.028310</td>\n",
              "      <td>-0.039603</td>\n",
              "      <td>0.009565</td>\n",
              "      <td>-0.008335</td>\n",
              "      <td>0.032813</td>\n",
              "      <td>0.037771</td>\n",
              "      <td>0.005431</td>\n",
              "      <td>-0.002790</td>\n",
              "      <td>-0.009366</td>\n",
              "      <td>-0.026999</td>\n",
              "      <td>0.006993</td>\n",
              "      <td>0.044435</td>\n",
              "    </tr>\n",
              "    <tr>\n",
              "      <th>m_dep</th>\n",
              "      <td>0.034085</td>\n",
              "      <td>0.004049</td>\n",
              "      <td>-0.014364</td>\n",
              "      <td>-0.022142</td>\n",
              "      <td>-0.027696</td>\n",
              "      <td>-0.001823</td>\n",
              "      <td>0.006886</td>\n",
              "      <td>1.000000</td>\n",
              "      <td>0.021756</td>\n",
              "      <td>-0.003504</td>\n",
              "      <td>0.020068</td>\n",
              "      <td>0.024523</td>\n",
              "      <td>0.023566</td>\n",
              "      <td>-0.009434</td>\n",
              "      <td>-0.025348</td>\n",
              "      <td>-0.010831</td>\n",
              "      <td>0.017003</td>\n",
              "      <td>-0.012065</td>\n",
              "      <td>-0.002638</td>\n",
              "      <td>-0.028353</td>\n",
              "      <td>0.000853</td>\n",
              "    </tr>\n",
              "    <tr>\n",
              "      <th>mobile_wt</th>\n",
              "      <td>0.001844</td>\n",
              "      <td>-0.008605</td>\n",
              "      <td>0.012350</td>\n",
              "      <td>-0.008979</td>\n",
              "      <td>0.009174</td>\n",
              "      <td>-0.016537</td>\n",
              "      <td>-0.034214</td>\n",
              "      <td>0.021756</td>\n",
              "      <td>1.000000</td>\n",
              "      <td>-0.018989</td>\n",
              "      <td>0.011592</td>\n",
              "      <td>0.000374</td>\n",
              "      <td>0.000090</td>\n",
              "      <td>-0.002581</td>\n",
              "      <td>-0.033855</td>\n",
              "      <td>-0.036691</td>\n",
              "      <td>0.006209</td>\n",
              "      <td>0.001551</td>\n",
              "      <td>-0.014368</td>\n",
              "      <td>-0.000409</td>\n",
              "      <td>-0.030302</td>\n",
              "    </tr>\n",
              "    <tr>\n",
              "      <th>n_cores</th>\n",
              "      <td>-0.029727</td>\n",
              "      <td>0.036161</td>\n",
              "      <td>-0.005724</td>\n",
              "      <td>-0.024658</td>\n",
              "      <td>-0.003644</td>\n",
              "      <td>-0.029706</td>\n",
              "      <td>-0.028310</td>\n",
              "      <td>-0.003504</td>\n",
              "      <td>-0.018989</td>\n",
              "      <td>1.000000</td>\n",
              "      <td>0.000513</td>\n",
              "      <td>-0.005937</td>\n",
              "      <td>0.024480</td>\n",
              "      <td>0.004868</td>\n",
              "      <td>-0.000315</td>\n",
              "      <td>0.020468</td>\n",
              "      <td>0.013148</td>\n",
              "      <td>-0.014733</td>\n",
              "      <td>0.023774</td>\n",
              "      <td>-0.009964</td>\n",
              "      <td>0.004399</td>\n",
              "    </tr>\n",
              "    <tr>\n",
              "      <th>pc</th>\n",
              "      <td>0.037947</td>\n",
              "      <td>-0.005156</td>\n",
              "      <td>-0.011531</td>\n",
              "      <td>-0.026806</td>\n",
              "      <td>0.490812</td>\n",
              "      <td>0.005737</td>\n",
              "      <td>-0.039603</td>\n",
              "      <td>0.020068</td>\n",
              "      <td>0.011592</td>\n",
              "      <td>0.000513</td>\n",
              "      <td>1.000000</td>\n",
              "      <td>-0.010179</td>\n",
              "      <td>0.001287</td>\n",
              "      <td>0.013346</td>\n",
              "      <td>-0.005919</td>\n",
              "      <td>-0.012094</td>\n",
              "      <td>0.003038</td>\n",
              "      <td>0.011860</td>\n",
              "      <td>-0.009073</td>\n",
              "      <td>-0.009448</td>\n",
              "      <td>0.018395</td>\n",
              "    </tr>\n",
              "    <tr>\n",
              "      <th>px_height</th>\n",
              "      <td>0.015338</td>\n",
              "      <td>-0.006865</td>\n",
              "      <td>-0.013596</td>\n",
              "      <td>-0.022382</td>\n",
              "      <td>0.003630</td>\n",
              "      <td>-0.017861</td>\n",
              "      <td>0.009565</td>\n",
              "      <td>0.024523</td>\n",
              "      <td>0.000374</td>\n",
              "      <td>-0.005937</td>\n",
              "      <td>-0.010179</td>\n",
              "      <td>1.000000</td>\n",
              "      <td>0.512012</td>\n",
              "      <td>-0.019432</td>\n",
              "      <td>0.058881</td>\n",
              "      <td>0.041808</td>\n",
              "      <td>-0.010526</td>\n",
              "      <td>-0.030391</td>\n",
              "      <td>0.023363</td>\n",
              "      <td>0.050401</td>\n",
              "      <td>0.149667</td>\n",
              "    </tr>\n",
              "    <tr>\n",
              "      <th>px_width</th>\n",
              "      <td>-0.008402</td>\n",
              "      <td>-0.041533</td>\n",
              "      <td>-0.009476</td>\n",
              "      <td>0.014291</td>\n",
              "      <td>0.002183</td>\n",
              "      <td>0.007448</td>\n",
              "      <td>-0.008335</td>\n",
              "      <td>0.023566</td>\n",
              "      <td>0.000090</td>\n",
              "      <td>0.024480</td>\n",
              "      <td>0.001287</td>\n",
              "      <td>0.512012</td>\n",
              "      <td>1.000000</td>\n",
              "      <td>0.004105</td>\n",
              "      <td>0.021599</td>\n",
              "      <td>0.034220</td>\n",
              "      <td>0.006720</td>\n",
              "      <td>0.000350</td>\n",
              "      <td>-0.001628</td>\n",
              "      <td>0.030319</td>\n",
              "      <td>0.165818</td>\n",
              "    </tr>\n",
              "    <tr>\n",
              "      <th>ram</th>\n",
              "      <td>-0.000653</td>\n",
              "      <td>0.026351</td>\n",
              "      <td>0.003443</td>\n",
              "      <td>0.041072</td>\n",
              "      <td>0.000828</td>\n",
              "      <td>0.007313</td>\n",
              "      <td>0.032813</td>\n",
              "      <td>-0.009434</td>\n",
              "      <td>-0.002581</td>\n",
              "      <td>0.004868</td>\n",
              "      <td>0.013346</td>\n",
              "      <td>-0.019432</td>\n",
              "      <td>0.004105</td>\n",
              "      <td>1.000000</td>\n",
              "      <td>0.015996</td>\n",
              "      <td>0.026829</td>\n",
              "      <td>0.010820</td>\n",
              "      <td>0.015795</td>\n",
              "      <td>-0.030455</td>\n",
              "      <td>0.022669</td>\n",
              "      <td>0.917046</td>\n",
              "    </tr>\n",
              "    <tr>\n",
              "      <th>sc_h</th>\n",
              "      <td>-0.029959</td>\n",
              "      <td>-0.002952</td>\n",
              "      <td>-0.029078</td>\n",
              "      <td>-0.011949</td>\n",
              "      <td>-0.015130</td>\n",
              "      <td>0.027166</td>\n",
              "      <td>0.037771</td>\n",
              "      <td>-0.025348</td>\n",
              "      <td>-0.033855</td>\n",
              "      <td>-0.000315</td>\n",
              "      <td>-0.005919</td>\n",
              "      <td>0.058881</td>\n",
              "      <td>0.021599</td>\n",
              "      <td>0.015996</td>\n",
              "      <td>1.000000</td>\n",
              "      <td>0.494743</td>\n",
              "      <td>-0.017335</td>\n",
              "      <td>0.012033</td>\n",
              "      <td>-0.020023</td>\n",
              "      <td>0.025929</td>\n",
              "      <td>0.022986</td>\n",
              "    </tr>\n",
              "    <tr>\n",
              "      <th>sc_w</th>\n",
              "      <td>-0.021325</td>\n",
              "      <td>-0.025094</td>\n",
              "      <td>-0.003510</td>\n",
              "      <td>-0.003460</td>\n",
              "      <td>-0.024740</td>\n",
              "      <td>0.031298</td>\n",
              "      <td>0.005431</td>\n",
              "      <td>-0.010831</td>\n",
              "      <td>-0.036691</td>\n",
              "      <td>0.020468</td>\n",
              "      <td>-0.012094</td>\n",
              "      <td>0.041808</td>\n",
              "      <td>0.034220</td>\n",
              "      <td>0.026829</td>\n",
              "      <td>0.494743</td>\n",
              "      <td>1.000000</td>\n",
              "      <td>-0.024072</td>\n",
              "      <td>0.035779</td>\n",
              "      <td>0.000322</td>\n",
              "      <td>0.020939</td>\n",
              "      <td>0.030411</td>\n",
              "    </tr>\n",
              "    <tr>\n",
              "      <th>talk_time</th>\n",
              "      <td>0.052510</td>\n",
              "      <td>0.013934</td>\n",
              "      <td>-0.011432</td>\n",
              "      <td>-0.039404</td>\n",
              "      <td>-0.001079</td>\n",
              "      <td>-0.046628</td>\n",
              "      <td>-0.002790</td>\n",
              "      <td>0.017003</td>\n",
              "      <td>0.006209</td>\n",
              "      <td>0.013148</td>\n",
              "      <td>0.003038</td>\n",
              "      <td>-0.010526</td>\n",
              "      <td>0.006720</td>\n",
              "      <td>0.010820</td>\n",
              "      <td>-0.017335</td>\n",
              "      <td>-0.024072</td>\n",
              "      <td>1.000000</td>\n",
              "      <td>-0.042688</td>\n",
              "      <td>0.017196</td>\n",
              "      <td>-0.029504</td>\n",
              "      <td>0.021859</td>\n",
              "    </tr>\n",
              "    <tr>\n",
              "      <th>three_g</th>\n",
              "      <td>0.011522</td>\n",
              "      <td>-0.030236</td>\n",
              "      <td>-0.046433</td>\n",
              "      <td>-0.014008</td>\n",
              "      <td>0.022405</td>\n",
              "      <td>0.584246</td>\n",
              "      <td>-0.009366</td>\n",
              "      <td>-0.012065</td>\n",
              "      <td>0.001551</td>\n",
              "      <td>-0.014733</td>\n",
              "      <td>0.011860</td>\n",
              "      <td>-0.030391</td>\n",
              "      <td>0.000350</td>\n",
              "      <td>0.015795</td>\n",
              "      <td>0.012033</td>\n",
              "      <td>0.035779</td>\n",
              "      <td>-0.042688</td>\n",
              "      <td>1.000000</td>\n",
              "      <td>0.013917</td>\n",
              "      <td>0.004316</td>\n",
              "      <td>0.023611</td>\n",
              "    </tr>\n",
              "    <tr>\n",
              "      <th>touch_screen</th>\n",
              "      <td>-0.010516</td>\n",
              "      <td>0.010061</td>\n",
              "      <td>0.019756</td>\n",
              "      <td>-0.017117</td>\n",
              "      <td>-0.002838</td>\n",
              "      <td>0.016758</td>\n",
              "      <td>-0.026999</td>\n",
              "      <td>-0.002638</td>\n",
              "      <td>-0.014368</td>\n",
              "      <td>0.023774</td>\n",
              "      <td>-0.009073</td>\n",
              "      <td>0.023363</td>\n",
              "      <td>-0.001628</td>\n",
              "      <td>-0.030455</td>\n",
              "      <td>-0.020023</td>\n",
              "      <td>0.000322</td>\n",
              "      <td>0.017196</td>\n",
              "      <td>0.013917</td>\n",
              "      <td>1.000000</td>\n",
              "      <td>0.011917</td>\n",
              "      <td>-0.030411</td>\n",
              "    </tr>\n",
              "    <tr>\n",
              "      <th>wifi</th>\n",
              "      <td>-0.008343</td>\n",
              "      <td>-0.021863</td>\n",
              "      <td>-0.024471</td>\n",
              "      <td>0.022740</td>\n",
              "      <td>0.014242</td>\n",
              "      <td>-0.017620</td>\n",
              "      <td>0.006993</td>\n",
              "      <td>-0.028353</td>\n",
              "      <td>-0.000409</td>\n",
              "      <td>-0.009964</td>\n",
              "      <td>-0.009448</td>\n",
              "      <td>0.050401</td>\n",
              "      <td>0.030319</td>\n",
              "      <td>0.022669</td>\n",
              "      <td>0.025929</td>\n",
              "      <td>0.020939</td>\n",
              "      <td>-0.029504</td>\n",
              "      <td>0.004316</td>\n",
              "      <td>0.011917</td>\n",
              "      <td>1.000000</td>\n",
              "      <td>0.018785</td>\n",
              "    </tr>\n",
              "    <tr>\n",
              "      <th>price_range</th>\n",
              "      <td>0.200723</td>\n",
              "      <td>0.020573</td>\n",
              "      <td>-0.006606</td>\n",
              "      <td>0.017444</td>\n",
              "      <td>0.011738</td>\n",
              "      <td>0.014772</td>\n",
              "      <td>0.044435</td>\n",
              "      <td>0.000853</td>\n",
              "      <td>-0.030302</td>\n",
              "      <td>0.004399</td>\n",
              "      <td>0.018395</td>\n",
              "      <td>0.149667</td>\n",
              "      <td>0.165818</td>\n",
              "      <td>0.917046</td>\n",
              "      <td>0.022986</td>\n",
              "      <td>0.030411</td>\n",
              "      <td>0.021859</td>\n",
              "      <td>0.023611</td>\n",
              "      <td>-0.030411</td>\n",
              "      <td>0.018785</td>\n",
              "      <td>1.000000</td>\n",
              "    </tr>\n",
              "  </tbody>\n",
              "</table>\n",
              "</div>\n",
              "      <button class=\"colab-df-convert\" onclick=\"convertToInteractive('df-38c6f0f5-06b1-4405-af76-e43aea6c0d39')\"\n",
              "              title=\"Convert this dataframe to an interactive table.\"\n",
              "              style=\"display:none;\">\n",
              "        \n",
              "  <svg xmlns=\"http://www.w3.org/2000/svg\" height=\"24px\"viewBox=\"0 0 24 24\"\n",
              "       width=\"24px\">\n",
              "    <path d=\"M0 0h24v24H0V0z\" fill=\"none\"/>\n",
              "    <path d=\"M18.56 5.44l.94 2.06.94-2.06 2.06-.94-2.06-.94-.94-2.06-.94 2.06-2.06.94zm-11 1L8.5 8.5l.94-2.06 2.06-.94-2.06-.94L8.5 2.5l-.94 2.06-2.06.94zm10 10l.94 2.06.94-2.06 2.06-.94-2.06-.94-.94-2.06-.94 2.06-2.06.94z\"/><path d=\"M17.41 7.96l-1.37-1.37c-.4-.4-.92-.59-1.43-.59-.52 0-1.04.2-1.43.59L10.3 9.45l-7.72 7.72c-.78.78-.78 2.05 0 2.83L4 21.41c.39.39.9.59 1.41.59.51 0 1.02-.2 1.41-.59l7.78-7.78 2.81-2.81c.8-.78.8-2.07 0-2.86zM5.41 20L4 18.59l7.72-7.72 1.47 1.35L5.41 20z\"/>\n",
              "  </svg>\n",
              "      </button>\n",
              "      \n",
              "  <style>\n",
              "    .colab-df-container {\n",
              "      display:flex;\n",
              "      flex-wrap:wrap;\n",
              "      gap: 12px;\n",
              "    }\n",
              "\n",
              "    .colab-df-convert {\n",
              "      background-color: #E8F0FE;\n",
              "      border: none;\n",
              "      border-radius: 50%;\n",
              "      cursor: pointer;\n",
              "      display: none;\n",
              "      fill: #1967D2;\n",
              "      height: 32px;\n",
              "      padding: 0 0 0 0;\n",
              "      width: 32px;\n",
              "    }\n",
              "\n",
              "    .colab-df-convert:hover {\n",
              "      background-color: #E2EBFA;\n",
              "      box-shadow: 0px 1px 2px rgba(60, 64, 67, 0.3), 0px 1px 3px 1px rgba(60, 64, 67, 0.15);\n",
              "      fill: #174EA6;\n",
              "    }\n",
              "\n",
              "    [theme=dark] .colab-df-convert {\n",
              "      background-color: #3B4455;\n",
              "      fill: #D2E3FC;\n",
              "    }\n",
              "\n",
              "    [theme=dark] .colab-df-convert:hover {\n",
              "      background-color: #434B5C;\n",
              "      box-shadow: 0px 1px 3px 1px rgba(0, 0, 0, 0.15);\n",
              "      filter: drop-shadow(0px 1px 2px rgba(0, 0, 0, 0.3));\n",
              "      fill: #FFFFFF;\n",
              "    }\n",
              "  </style>\n",
              "\n",
              "      <script>\n",
              "        const buttonEl =\n",
              "          document.querySelector('#df-38c6f0f5-06b1-4405-af76-e43aea6c0d39 button.colab-df-convert');\n",
              "        buttonEl.style.display =\n",
              "          google.colab.kernel.accessAllowed ? 'block' : 'none';\n",
              "\n",
              "        async function convertToInteractive(key) {\n",
              "          const element = document.querySelector('#df-38c6f0f5-06b1-4405-af76-e43aea6c0d39');\n",
              "          const dataTable =\n",
              "            await google.colab.kernel.invokeFunction('convertToInteractive',\n",
              "                                                     [key], {});\n",
              "          if (!dataTable) return;\n",
              "\n",
              "          const docLinkHtml = 'Like what you see? Visit the ' +\n",
              "            '<a target=\"_blank\" href=https://colab.research.google.com/notebooks/data_table.ipynb>data table notebook</a>'\n",
              "            + ' to learn more about interactive tables.';\n",
              "          element.innerHTML = '';\n",
              "          dataTable['output_type'] = 'display_data';\n",
              "          await google.colab.output.renderOutput(dataTable, element);\n",
              "          const docLink = document.createElement('div');\n",
              "          docLink.innerHTML = docLinkHtml;\n",
              "          element.appendChild(docLink);\n",
              "        }\n",
              "      </script>\n",
              "    </div>\n",
              "  </div>\n",
              "  "
            ]
          },
          "metadata": {},
          "execution_count": 52
        }
      ]
    },
    {
      "cell_type": "markdown",
      "source": [
        "**Interpretation** - All the variables except the ram have approximately value of 0 correlation with price_range which means those variables don't have any relationship with price ange. But ram has a approximately value of 1 for correlation value with price range which means ram and price range has a positive relationship. Means that price vary with ram positively. So ram capacity aaffect to the mobile price range positively. "
      ],
      "metadata": {
        "id": "hQhr_hXORfX5"
      }
    },
    {
      "cell_type": "markdown",
      "source": [
        "**4.7. Discover and remove outliers**\n",
        "\n",
        "***4.7.1 Discover outliers***"
      ],
      "metadata": {
        "id": "9Fvuc13ksnAL"
      }
    },
    {
      "cell_type": "code",
      "source": [
        "#discover outliers\n",
        "# plot a boxplot to visualize the outliers in all the numeric variables\n",
        "df_numerical.boxplot()\n",
        "\n",
        "# set plot label\n",
        "# set text size using 'fontsize'\n",
        "plt.title('Distribution of all Numeric Variables', fontsize = 15)\n",
        "\n",
        "# xticks() returns the x-axis ticks\n",
        "# 'rotation = vertical' rotates the x-axis labels vertically\n",
        "plt.xticks(rotation = 'vertical', fontsize = 15)\n",
        "\n",
        "# display the plot\n",
        "plt.rcParams['figure.figsize'] = [15,8]\n",
        "plt.tight_layout()\n",
        "plt.show()\n"
      ],
      "metadata": {
        "id": "dtMAY7-UdGSJ",
        "colab": {
          "base_uri": "https://localhost:8080/",
          "height": 729
        },
        "outputId": "fad1871c-e32e-40e6-e41c-0c33d6aed67b"
      },
      "execution_count": null,
      "outputs": [
        {
          "output_type": "display_data",
          "data": {
            "text/plain": [
              "<Figure size 720x720 with 1 Axes>"
            ],
            "image/png": "[encoded data removed]"
          },
          "metadata": {
            "needs_background": "light"
          }
        }
      ]
    },
    {
      "cell_type": "markdown",
      "source": [
        "**Interpretation** - Here fc and the px_height variables have the outliers. So, below I have seperately lot them."
      ],
      "metadata": {
        "id": "qefAxKlQYmby"
      }
    },
    {
      "cell_type": "code",
      "source": [
        "plt.figure(figsize=(16,5))\n",
        "plt.subplot(1,2,1)\n",
        "sns.histplot(df_mobile['px_height'], kde=True)\n",
        "\n",
        "plt.subplot(1,2,2)\n",
        "sns.histplot(df_mobile['fc'], kde=True)\n",
        "\n",
        "plt.show()"
      ],
      "metadata": {
        "colab": {
          "base_uri": "https://localhost:8080/",
          "height": 339
        },
        "id": "g5FdjvKCY1Ht",
        "outputId": "5248210c-35fd-47a7-c34f-b5d1fe66ca3a"
      },
      "execution_count": null,
      "outputs": [
        {
          "output_type": "display_data",
          "data": {
            "text/plain": [
              "<Figure size 1152x360 with 2 Axes>"
            ],
            "image/png": "[encoded data removed]"
          },
          "metadata": {
            "needs_background": "light"
          }
        }
      ]
    },
    {
      "cell_type": "markdown",
      "source": [
        "**Interpretation** - only fc and the px_height are the variables only have outliers. So we have remove those outliers and get dataset into some scale which means normalization. Here I have used IQR method. \n",
        "\n",
        "\n"
      ],
      "metadata": {
        "id": "RrGQQHn8p94S"
      }
    },
    {
      "cell_type": "markdown",
      "source": [
        "***4.7.2. Remove Outliers***"
      ],
      "metadata": {
        "id": "lHaXbLU5wFDz"
      }
    },
    {
      "cell_type": "code",
      "source": [
        "df_mobile['fc'].skew()"
      ],
      "metadata": {
        "colab": {
          "base_uri": "https://localhost:8080/"
        },
        "id": "S-Fx4N1D2a7E",
        "outputId": "2b2bbbb2-873b-4a0d-967e-8d91b680e61f"
      },
      "execution_count": null,
      "outputs": [
        {
          "output_type": "execute_result",
          "data": {
            "text/plain": [
              "1.0160938749776578"
            ]
          },
          "metadata": {},
          "execution_count": 55
        }
      ]
    },
    {
      "cell_type": "code",
      "source": [
        "upper1 = df_mobile.fc.mean() + 3*df_mobile.fc.std()\n",
        "\n",
        "lower1 = df_mobile.fc.mean() -3*df_mobile.fc.std()\n",
        "\n",
        "upper2 = df_mobile.px_height.mean() + 3*df_mobile.px_height.std()\n",
        "\n",
        "lower2 = df_mobile.px_height.mean() -3*df_mobile.px_height.std()\n",
        "\n",
        "print(\"upper limit of Front Camera mega pixels = \" )\n",
        "print(upper1)\n",
        "print(\"lower limit Front Camera mega pixels =\")\n",
        "print(lower1)\n",
        "print(\"upper limit of pixel resolution height = \" )\n",
        "print(upper2)\n",
        "print(\"lower limit of pixel resolution height = \" )\n",
        "print(lower2)\n",
        "\n",
        "new_df= df_mobile[(df_mobile.fc<upper1) & (df_mobile.fc>lower1) & (df_mobile.px_height<upper2) & (df_mobile.px_height>lower2)]\n",
        "\n",
        "df_mobile = new_df\n",
        "\n",
        "print(\"normalized data set shape  = \" )\n",
        "df_mobile.shape"
      ],
      "metadata": {
        "colab": {
          "base_uri": "https://localhost:8080/"
        },
        "id": "LioEzJjP2olc",
        "outputId": "2da7c1b9-2494-4560-cecd-f5ddac34ba42"
      },
      "execution_count": null,
      "outputs": [
        {
          "output_type": "stream",
          "name": "stdout",
          "text": [
            "upper limit of Front Camera mega pixels = \n",
            "16.496554666797856\n",
            "lower limit Front Camera mega pixels =\n",
            "-5.200355453167448\n",
            "upper limit of pixel resolution height = \n",
            "1975.6866725865452\n",
            "lower limit of pixel resolution height = \n",
            "-684.1791650790378\n",
            "normalized data set shape  = \n"
          ]
        },
        {
          "output_type": "execute_result",
          "data": {
            "text/plain": [
              "(1982, 21)"
            ]
          },
          "metadata": {},
          "execution_count": 56
        }
      ]
    },
    {
      "cell_type": "markdown",
      "source": [
        "# **5. Data Preparation**"
      ],
      "metadata": {
        "id": "Wwz61GeWs40B"
      }
    },
    {
      "cell_type": "markdown",
      "source": [
        "**5.1 Seperate target values from independent variables**"
      ],
      "metadata": {
        "id": "uMIeVvPxtBu7"
      }
    },
    {
      "cell_type": "code",
      "source": [
        "#seperate the target value from independent variables\n",
        "y=df_mobile.price_range\n",
        "df_mobile = df_mobile.drop('price_range', axis = 1)"
      ],
      "metadata": {
        "id": "v38WtONlj4wj"
      },
      "execution_count": null,
      "outputs": []
    },
    {
      "cell_type": "markdown",
      "source": [
        "**5.2 Scale the values**"
      ],
      "metadata": {
        "id": "PQ77Vu8YtLqc"
      }
    },
    {
      "cell_type": "code",
      "source": [
        "#scale the numeric variables\n",
        "df_num = df_mobile.apply(lambda rec: (rec - rec.mean()) / rec.std())\n",
        "\n",
        "df_num.head()\n",
        "X = df_num.copy() #rename the variables\n",
        "X.head()\n"
      ],
      "metadata": {
        "colab": {
          "base_uri": "https://localhost:8080/",
          "height": 270
        },
        "id": "uZ1dKqnbnAgr",
        "outputId": "767413d2-ff51-4ad4-8462-e183a3ecfa78"
      },
      "execution_count": null,
      "outputs": [
        {
          "output_type": "execute_result",
          "data": {
            "text/plain": [
              "   battery_power      blue  clock_speed  dual_sim        fc    four_g  \\\n",
              "0      -0.897860 -0.989710     0.831324 -1.018075 -1.318076 -1.043056   \n",
              "1      -0.490453  1.009887    -1.249085  0.981751  0.031846  0.958238   \n",
              "2      -1.532867  1.009887    -1.249085  0.981751 -1.027652  0.958238   \n",
              "3      -1.414515  1.009887     1.198455 -1.018075  0.031846 -1.043056   \n",
              "4       1.330357  1.009887    -0.392446 -1.018075  2.167019  0.958238   \n",
              "\n",
              "   int_memory     m_dep  mobile_wt   n_cores        pc  px_height  px_width  \\\n",
              "0   -1.383263  0.338610   1.352780 -1.103874 -1.499759  -1.412304 -1.144377   \n",
              "1    1.154872  0.685087  -0.116872 -0.667346 -0.782401   0.593421  1.707411   \n",
              "2    0.492750  1.378041   0.137491  0.205710 -0.782401   1.404777  1.077796   \n",
              "3   -1.217733  1.031564  -0.258184  0.642238 -0.244383   1.298258  1.239829   \n",
              "4    0.658281  0.338610   0.024441 -1.103874  0.652315   1.280127 -0.088845   \n",
              "\n",
              "        ram      sc_h      sc_w  talk_time   three_g  touch_screen      wifi  \n",
              "0  0.390773 -0.788968  0.162513   1.464478 -1.783208     -1.002779  0.988712  \n",
              "1  0.466402  1.111075 -0.846988  -0.734458  0.560504      0.996726 -1.010907  \n",
              "2  0.440578 -0.313958 -1.099363  -0.367969  0.560504      0.996726 -1.010907  \n",
              "3  0.593681  0.873569  0.414888  -0.001479  0.560504     -1.002779 -1.010907  \n",
              "4 -0.658814 -1.026474 -1.099363   0.731500  0.560504      0.996726 -1.010907  "
            ],
            "text/html": [
              "\n",
              "  <div id=\"df-9148db7c-0721-44bb-8248-af8dd7a69ed3\">\n",
              "    <div class=\"colab-df-container\">\n",
              "      <div>\n",
              "<style scoped>\n",
              "    .dataframe tbody tr th:only-of-type {\n",
              "        vertical-align: middle;\n",
              "    }\n",
              "\n",
              "    .dataframe tbody tr th {\n",
              "        vertical-align: top;\n",
              "    }\n",
              "\n",
              "    .dataframe thead th {\n",
              "        text-align: right;\n",
              "    }\n",
              "</style>\n",
              "<table border=\"1\" class=\"dataframe\">\n",
              "  <thead>\n",
              "    <tr style=\"text-align: right;\">\n",
              "      <th></th>\n",
              "      <th>battery_power</th>\n",
              "      <th>blue</th>\n",
              "      <th>clock_speed</th>\n",
              "      <th>dual_sim</th>\n",
              "      <th>fc</th>\n",
              "      <th>four_g</th>\n",
              "      <th>int_memory</th>\n",
              "      <th>m_dep</th>\n",
              "      <th>mobile_wt</th>\n",
              "      <th>n_cores</th>\n",
              "      <th>pc</th>\n",
              "      <th>px_height</th>\n",
              "      <th>px_width</th>\n",
              "      <th>ram</th>\n",
              "      <th>sc_h</th>\n",
              "      <th>sc_w</th>\n",
              "      <th>talk_time</th>\n",
              "      <th>three_g</th>\n",
              "      <th>touch_screen</th>\n",
              "      <th>wifi</th>\n",
              "    </tr>\n",
              "  </thead>\n",
              "  <tbody>\n",
              "    <tr>\n",
              "      <th>0</th>\n",
              "      <td>-0.897860</td>\n",
              "      <td>-0.989710</td>\n",
              "      <td>0.831324</td>\n",
              "      <td>-1.018075</td>\n",
              "      <td>-1.318076</td>\n",
              "      <td>-1.043056</td>\n",
              "      <td>-1.383263</td>\n",
              "      <td>0.338610</td>\n",
              "      <td>1.352780</td>\n",
              "      <td>-1.103874</td>\n",
              "      <td>-1.499759</td>\n",
              "      <td>-1.412304</td>\n",
              "      <td>-1.144377</td>\n",
              "      <td>0.390773</td>\n",
              "      <td>-0.788968</td>\n",
              "      <td>0.162513</td>\n",
              "      <td>1.464478</td>\n",
              "      <td>-1.783208</td>\n",
              "      <td>-1.002779</td>\n",
              "      <td>0.988712</td>\n",
              "    </tr>\n",
              "    <tr>\n",
              "      <th>1</th>\n",
              "      <td>-0.490453</td>\n",
              "      <td>1.009887</td>\n",
              "      <td>-1.249085</td>\n",
              "      <td>0.981751</td>\n",
              "      <td>0.031846</td>\n",
              "      <td>0.958238</td>\n",
              "      <td>1.154872</td>\n",
              "      <td>0.685087</td>\n",
              "      <td>-0.116872</td>\n",
              "      <td>-0.667346</td>\n",
              "      <td>-0.782401</td>\n",
              "      <td>0.593421</td>\n",
              "      <td>1.707411</td>\n",
              "      <td>0.466402</td>\n",
              "      <td>1.111075</td>\n",
              "      <td>-0.846988</td>\n",
              "      <td>-0.734458</td>\n",
              "      <td>0.560504</td>\n",
              "      <td>0.996726</td>\n",
              "      <td>-1.010907</td>\n",
              "    </tr>\n",
              "    <tr>\n",
              "      <th>2</th>\n",
              "      <td>-1.532867</td>\n",
              "      <td>1.009887</td>\n",
              "      <td>-1.249085</td>\n",
              "      <td>0.981751</td>\n",
              "      <td>-1.027652</td>\n",
              "      <td>0.958238</td>\n",
              "      <td>0.492750</td>\n",
              "      <td>1.378041</td>\n",
              "      <td>0.137491</td>\n",
              "      <td>0.205710</td>\n",
              "      <td>-0.782401</td>\n",
              "      <td>1.404777</td>\n",
              "      <td>1.077796</td>\n",
              "      <td>0.440578</td>\n",
              "      <td>-0.313958</td>\n",
              "      <td>-1.099363</td>\n",
              "      <td>-0.367969</td>\n",
              "      <td>0.560504</td>\n",
              "      <td>0.996726</td>\n",
              "      <td>-1.010907</td>\n",
              "    </tr>\n",
              "    <tr>\n",
              "      <th>3</th>\n",
              "      <td>-1.414515</td>\n",
              "      <td>1.009887</td>\n",
              "      <td>1.198455</td>\n",
              "      <td>-1.018075</td>\n",
              "      <td>0.031846</td>\n",
              "      <td>-1.043056</td>\n",
              "      <td>-1.217733</td>\n",
              "      <td>1.031564</td>\n",
              "      <td>-0.258184</td>\n",
              "      <td>0.642238</td>\n",
              "      <td>-0.244383</td>\n",
              "      <td>1.298258</td>\n",
              "      <td>1.239829</td>\n",
              "      <td>0.593681</td>\n",
              "      <td>0.873569</td>\n",
              "      <td>0.414888</td>\n",
              "      <td>-0.001479</td>\n",
              "      <td>0.560504</td>\n",
              "      <td>-1.002779</td>\n",
              "      <td>-1.010907</td>\n",
              "    </tr>\n",
              "    <tr>\n",
              "      <th>4</th>\n",
              "      <td>1.330357</td>\n",
              "      <td>1.009887</td>\n",
              "      <td>-0.392446</td>\n",
              "      <td>-1.018075</td>\n",
              "      <td>2.167019</td>\n",
              "      <td>0.958238</td>\n",
              "      <td>0.658281</td>\n",
              "      <td>0.338610</td>\n",
              "      <td>0.024441</td>\n",
              "      <td>-1.103874</td>\n",
              "      <td>0.652315</td>\n",
              "      <td>1.280127</td>\n",
              "      <td>-0.088845</td>\n",
              "      <td>-0.658814</td>\n",
              "      <td>-1.026474</td>\n",
              "      <td>-1.099363</td>\n",
              "      <td>0.731500</td>\n",
              "      <td>0.560504</td>\n",
              "      <td>0.996726</td>\n",
              "      <td>-1.010907</td>\n",
              "    </tr>\n",
              "  </tbody>\n",
              "</table>\n",
              "</div>\n",
              "      <button class=\"colab-df-convert\" onclick=\"convertToInteractive('df-9148db7c-0721-44bb-8248-af8dd7a69ed3')\"\n",
              "              title=\"Convert this dataframe to an interactive table.\"\n",
              "              style=\"display:none;\">\n",
              "        \n",
              "  <svg xmlns=\"http://www.w3.org/2000/svg\" height=\"24px\"viewBox=\"0 0 24 24\"\n",
              "       width=\"24px\">\n",
              "    <path d=\"M0 0h24v24H0V0z\" fill=\"none\"/>\n",
              "    <path d=\"M18.56 5.44l.94 2.06.94-2.06 2.06-.94-2.06-.94-.94-2.06-.94 2.06-2.06.94zm-11 1L8.5 8.5l.94-2.06 2.06-.94-2.06-.94L8.5 2.5l-.94 2.06-2.06.94zm10 10l.94 2.06.94-2.06 2.06-.94-2.06-.94-.94-2.06-.94 2.06-2.06.94z\"/><path d=\"M17.41 7.96l-1.37-1.37c-.4-.4-.92-.59-1.43-.59-.52 0-1.04.2-1.43.59L10.3 9.45l-7.72 7.72c-.78.78-.78 2.05 0 2.83L4 21.41c.39.39.9.59 1.41.59.51 0 1.02-.2 1.41-.59l7.78-7.78 2.81-2.81c.8-.78.8-2.07 0-2.86zM5.41 20L4 18.59l7.72-7.72 1.47 1.35L5.41 20z\"/>\n",
              "  </svg>\n",
              "      </button>\n",
              "      \n",
              "  <style>\n",
              "    .colab-df-container {\n",
              "      display:flex;\n",
              "      flex-wrap:wrap;\n",
              "      gap: 12px;\n",
              "    }\n",
              "\n",
              "    .colab-df-convert {\n",
              "      background-color: #E8F0FE;\n",
              "      border: none;\n",
              "      border-radius: 50%;\n",
              "      cursor: pointer;\n",
              "      display: none;\n",
              "      fill: #1967D2;\n",
              "      height: 32px;\n",
              "      padding: 0 0 0 0;\n",
              "      width: 32px;\n",
              "    }\n",
              "\n",
              "    .colab-df-convert:hover {\n",
              "      background-color: #E2EBFA;\n",
              "      box-shadow: 0px 1px 2px rgba(60, 64, 67, 0.3), 0px 1px 3px 1px rgba(60, 64, 67, 0.15);\n",
              "      fill: #174EA6;\n",
              "    }\n",
              "\n",
              "    [theme=dark] .colab-df-convert {\n",
              "      background-color: #3B4455;\n",
              "      fill: #D2E3FC;\n",
              "    }\n",
              "\n",
              "    [theme=dark] .colab-df-convert:hover {\n",
              "      background-color: #434B5C;\n",
              "      box-shadow: 0px 1px 3px 1px rgba(0, 0, 0, 0.15);\n",
              "      filter: drop-shadow(0px 1px 2px rgba(0, 0, 0, 0.3));\n",
              "      fill: #FFFFFF;\n",
              "    }\n",
              "  </style>\n",
              "\n",
              "      <script>\n",
              "        const buttonEl =\n",
              "          document.querySelector('#df-9148db7c-0721-44bb-8248-af8dd7a69ed3 button.colab-df-convert');\n",
              "        buttonEl.style.display =\n",
              "          google.colab.kernel.accessAllowed ? 'block' : 'none';\n",
              "\n",
              "        async function convertToInteractive(key) {\n",
              "          const element = document.querySelector('#df-9148db7c-0721-44bb-8248-af8dd7a69ed3');\n",
              "          const dataTable =\n",
              "            await google.colab.kernel.invokeFunction('convertToInteractive',\n",
              "                                                     [key], {});\n",
              "          if (!dataTable) return;\n",
              "\n",
              "          const docLinkHtml = 'Like what you see? Visit the ' +\n",
              "            '<a target=\"_blank\" href=https://colab.research.google.com/notebooks/data_table.ipynb>data table notebook</a>'\n",
              "            + ' to learn more about interactive tables.';\n",
              "          element.innerHTML = '';\n",
              "          dataTable['output_type'] = 'display_data';\n",
              "          await google.colab.output.renderOutput(dataTable, element);\n",
              "          const docLink = document.createElement('div');\n",
              "          docLink.innerHTML = docLinkHtml;\n",
              "          element.appendChild(docLink);\n",
              "        }\n",
              "      </script>\n",
              "    </div>\n",
              "  </div>\n",
              "  "
            ]
          },
          "metadata": {},
          "execution_count": 58
        }
      ]
    },
    {
      "cell_type": "markdown",
      "source": [
        "**Interpretation** - Here scale the variables to get all the variables in the same range. With this, we can avoid a problem in which some features come to dominate solely because they tend to have larger values than others."
      ],
      "metadata": {
        "id": "56S-oE-6wZjc"
      }
    },
    {
      "cell_type": "markdown",
      "source": [
        "# **6. Apply KNN Algorithm**"
      ],
      "metadata": {
        "id": "uXsUbSG8ErTS"
      }
    },
    {
      "cell_type": "markdown",
      "source": [
        "**6.1. Split Train and Test data**"
      ],
      "metadata": {
        "id": "nOwIoEiothJ6"
      }
    },
    {
      "cell_type": "code",
      "source": [
        "# split data into train subset and test subset\n",
        "# set 'random_state' to generate the same dataset each time you run the code \n",
        "# 'test_size' returns the proportion of data to be included in the test set\n",
        "X_train, X_test, y_train, y_test = train_test_split(X, y, test_size = 0.20, random_state = 10)  \n",
        "print(\"X_train\",X_train.shape)\n",
        "print(\"y_train\",y_train.shape)\n",
        "\n",
        "# print dimension of test set\n",
        "print(\"X_test\",X_test.shape)\n",
        "print(\"y_test\",y_test.shape)"
      ],
      "metadata": {
        "id": "Eh_147jqrdsf",
        "colab": {
          "base_uri": "https://localhost:8080/"
        },
        "outputId": "c3e9f568-6a2d-4b83-eccc-919a15857a0d"
      },
      "execution_count": null,
      "outputs": [
        {
          "output_type": "stream",
          "name": "stdout",
          "text": [
            "X_train (1585, 20)\n",
            "y_train (1585,)\n",
            "X_test (397, 20)\n",
            "y_test (397,)\n"
          ]
        }
      ]
    },
    {
      "cell_type": "markdown",
      "source": [
        "**6.2 Apply KNN Model**"
      ],
      "metadata": {
        "id": "nCQMY-_Ntoyu"
      }
    },
    {
      "cell_type": "code",
      "source": [
        "#build KNN model\n",
        "\n",
        "knn_classification = KNeighborsClassifier(n_neighbors = 5)\n",
        "\n",
        "# fit the model using fit() on train data\n",
        "knn_model = knn_classification.fit(X_train, y_train)"
      ],
      "metadata": {
        "id": "hRLSTeGte2vc"
      },
      "execution_count": null,
      "outputs": []
    },
    {
      "cell_type": "markdown",
      "source": [
        "# **7. Prediction and Evaluation for KNN**"
      ],
      "metadata": {
        "id": "-kkzKiPOgjEJ"
      }
    },
    {
      "cell_type": "markdown",
      "source": [
        "**7.1 Prediction**"
      ],
      "metadata": {
        "id": "kqhkv1fign25"
      }
    },
    {
      "cell_type": "code",
      "source": [
        "y_pred = knn_model.predict(X_test)\n",
        "print(y_pred)"
      ],
      "metadata": {
        "colab": {
          "base_uri": "https://localhost:8080/"
        },
        "id": "2hzf3vIWgaU3",
        "outputId": "aaaeb9bc-df4c-4a88-dd19-f2972589a121"
      },
      "execution_count": null,
      "outputs": [
        {
          "output_type": "stream",
          "name": "stdout",
          "text": [
            "[3 2 0 0 0 1 1 1 3 0 1 1 0 2 2 0 1 1 2 2 3 0 1 3 1 2 2 0 3 0 2 0 1 2 0 1 2\n",
            " 0 0 3 3 2 0 2 1 1 3 0 2 3 2 0 3 2 2 1 1 0 0 3 2 3 3 2 2 2 0 1 0 0 2 1 2 0\n",
            " 3 1 1 0 3 0 0 1 1 1 0 3 1 0 2 2 2 0 0 2 0 2 2 0 3 1 3 1 3 3 3 2 2 1 0 2 2\n",
            " 3 1 2 1 2 2 0 3 0 2 3 3 0 2 2 1 1 0 0 3 3 3 0 1 0 2 2 0 1 3 1 1 3 1 2 2 1\n",
            " 0 3 1 0 1 0 0 1 1 0 1 1 1 1 2 2 3 3 3 1 2 2 2 1 3 0 3 0 1 0 1 0 1 1 2 3 2\n",
            " 0 3 1 1 2 2 1 2 1 0 1 3 2 2 3 0 0 1 3 2 0 2 3 3 2 0 2 1 1 0 1 1 0 1 3 2 1\n",
            " 0 3 0 1 2 1 0 3 0 1 0 0 0 1 0 3 0 0 0 3 3 0 3 3 1 2 1 2 0 2 2 1 0 2 2 0 0\n",
            " 0 3 2 2 3 3 1 1 2 1 1 0 0 1 2 2 1 3 1 0 3 0 2 1 2 3 2 1 0 0 2 0 1 0 2 1 0\n",
            " 3 0 1 0 0 0 0 0 1 0 0 0 1 0 2 0 0 1 0 0 2 2 0 0 1 2 2 0 0 0 2 1 2 0 0 1 2\n",
            " 3 0 2 0 2 3 1 2 1 1 0 0 0 3 0 0 0 0 1 1 2 0 3 1 2 1 1 0 3 1 2 0 0 3 0 3 1\n",
            " 3 1 1 1 1 1 1 0 2 3 2 1 0 1 0 3 3 0 2 0 0 3 3 3 0 0 3]\n"
          ]
        }
      ]
    },
    {
      "cell_type": "code",
      "source": [
        "\n",
        "mae = mean_absolute_error(y_test,y_pred)\n",
        "print(\"MAE : %.3f \" % mae)"
      ],
      "metadata": {
        "colab": {
          "base_uri": "https://localhost:8080/"
        },
        "id": "14-i9lr6g3Gs",
        "outputId": "4ec0b531-6949-41f4-8f9f-bccf95713911"
      },
      "execution_count": null,
      "outputs": [
        {
          "output_type": "stream",
          "name": "stdout",
          "text": [
            "MAE : 0.559 \n"
          ]
        }
      ]
    },
    {
      "cell_type": "markdown",
      "source": [
        "**7.2. Evaluation**\n",
        "\n",
        "***7.2.1 Accuracy***"
      ],
      "metadata": {
        "id": "brSodHM3g_y-"
      }
    },
    {
      "cell_type": "code",
      "source": [
        "acc = knn_model.score(X_test, y_test)\n",
        "print('Test Accuracy:', knn_model.score(X_test, y_test))\n",
        "print('Training Accuracy:', knn_model.score(X_train, y_train))"
      ],
      "metadata": {
        "colab": {
          "base_uri": "https://localhost:8080/"
        },
        "id": "LGw_gqmdhCnG",
        "outputId": "27aaa76e-2f42-44f6-8347-283873895f82"
      },
      "execution_count": null,
      "outputs": [
        {
          "output_type": "stream",
          "name": "stdout",
          "text": [
            "Test Accuracy: 0.5390428211586902\n",
            "Training Accuracy: 0.7009463722397477\n"
          ]
        }
      ]
    },
    {
      "cell_type": "markdown",
      "source": [
        "**Interpretation** - we can conclude that when K is small i.e. K=5, Training Accuracy is High but Test Accuracy is Low which means the model is over-fitting ( High Variance or High Model Complexity). When the value of K is large i.e. K=50, Training Accuracy is Low as well as Test Accuracy is Low which means the model is under-fitting ( High Bias or Low Model Complexity ).\n",
        "\n",
        "So Hyperparameter tuning is necessary i.e. to select the best value of K in KNN algorithm for which the model has Low Bias and Low Variance and results in a good model with high out of sample accuracy."
      ],
      "metadata": {
        "id": "4JIS-hRTO4KX"
      }
    },
    {
      "cell_type": "markdown",
      "source": [
        "***7.2.2. Confusion matrix***"
      ],
      "metadata": {
        "id": "IH2A2HBIiHfr"
      }
    },
    {
      "cell_type": "code",
      "source": [
        "confusion_mat = confusion_matrix(y_test,y_pred,labels=[0,1,2,3])  # 0 - neagative label / 1 - positive label\n",
        "print(\"Confusion Matrix : \")\n",
        "print(confusion_mat)"
      ],
      "metadata": {
        "colab": {
          "base_uri": "https://localhost:8080/"
        },
        "id": "Zxddcu6AiJhR",
        "outputId": "ec04f03c-b9df-4cd6-90a8-e93521b77f5f"
      },
      "execution_count": null,
      "outputs": [
        {
          "output_type": "stream",
          "name": "stdout",
          "text": [
            "Confusion Matrix : \n",
            "[[79 18  2  1]\n",
            " [34 43 21  3]\n",
            " [ 8 30 43 20]\n",
            " [ 5 14 27 49]]\n"
          ]
        }
      ]
    },
    {
      "cell_type": "markdown",
      "source": [
        "***7.2.3.Normalized confusion matrix***"
      ],
      "metadata": {
        "id": "WCT0o1dKiZ4l"
      }
    },
    {
      "cell_type": "code",
      "source": [
        "print(\"Normalized Confusion MAtrix : \")\n",
        "print(np.round(confusion_mat/np.sum(confusion_mat,axis=1).reshape(-1,1),2))"
      ],
      "metadata": {
        "colab": {
          "base_uri": "https://localhost:8080/"
        },
        "id": "Hal2P3pMjXsW",
        "outputId": "976c8fab-df8e-4479-ecc1-76df151ab731"
      },
      "execution_count": null,
      "outputs": [
        {
          "output_type": "stream",
          "name": "stdout",
          "text": [
            "Normalized Confusion MAtrix : \n",
            "[[0.79 0.18 0.02 0.01]\n",
            " [0.34 0.43 0.21 0.03]\n",
            " [0.08 0.3  0.43 0.2 ]\n",
            " [0.05 0.15 0.28 0.52]]\n"
          ]
        }
      ]
    },
    {
      "cell_type": "code",
      "source": [
        "\n",
        "sns.set()\n",
        "get_ipython().run_line_magic('matplotlib','inline')\n",
        "sns.heatmap(confusion_mat.T,square=True,annot=True,fmt='d',cbar=False)"
      ],
      "metadata": {
        "colab": {
          "base_uri": "https://localhost:8080/",
          "height": 285
        },
        "id": "IVDzPWxSoYcy",
        "outputId": "28ce4da8-778a-422b-c02a-1a4c38db4494"
      },
      "execution_count": null,
      "outputs": [
        {
          "output_type": "execute_result",
          "data": {
            "text/plain": [
              "<matplotlib.axes._subplots.AxesSubplot at 0x7f1705dad130>"
            ]
          },
          "metadata": {},
          "execution_count": 66
        },
        {
          "output_type": "display_data",
          "data": {
            "text/plain": [
              "<Figure size 432x288 with 1 Axes>"
            ],
            "image/png": "[encoded data removed]"
          },
          "metadata": {
            "needs_background": "light"
          }
        }
      ]
    },
    {
      "cell_type": "markdown",
      "source": [
        "***7.2.4. Classification Report***"
      ],
      "metadata": {
        "id": "n5wdUovFuS6j"
      }
    },
    {
      "cell_type": "code",
      "source": [
        "print(\"Classification Report : \",metrics.classification_report(y_pred,y_test,target_names=[\"0\",\"1\",\"2\",\"3\"]))"
      ],
      "metadata": {
        "colab": {
          "base_uri": "https://localhost:8080/"
        },
        "id": "Fi3gJLROorR-",
        "outputId": "0c8af48f-00f9-4ce3-f4d7-d324edf64eb7"
      },
      "execution_count": null,
      "outputs": [
        {
          "output_type": "stream",
          "name": "stdout",
          "text": [
            "Classification Report :                precision    recall  f1-score   support\n",
            "\n",
            "           0       0.79      0.63      0.70       126\n",
            "           1       0.43      0.41      0.42       105\n",
            "           2       0.43      0.46      0.44        93\n",
            "           3       0.52      0.67      0.58        73\n",
            "\n",
            "    accuracy                           0.54       397\n",
            "   macro avg       0.54      0.54      0.54       397\n",
            "weighted avg       0.56      0.54      0.54       397\n",
            "\n"
          ]
        }
      ]
    },
    {
      "cell_type": "markdown",
      "source": [
        "# **8. Apply MLNN model**"
      ],
      "metadata": {
        "id": "bxEA1q63tUtc"
      }
    },
    {
      "cell_type": "markdown",
      "source": [
        "**8.1. Split the dataset**\n",
        "\n",
        "Here I have use the above cleaned data use for KNN model"
      ],
      "metadata": {
        "id": "9vt-0iwAu8Qc"
      }
    },
    {
      "cell_type": "code",
      "source": [
        "dataset = df_mobile.values\n",
        "dataset"
      ],
      "metadata": {
        "colab": {
          "base_uri": "https://localhost:8080/"
        },
        "id": "BaTS7MJbK2fT",
        "outputId": "6887bc91-2b28-4825-a65b-01d987645405"
      },
      "execution_count": null,
      "outputs": [
        {
          "output_type": "execute_result",
          "data": {
            "text/plain": [
              "array([[ 842. ,    0. ,    2.2, ...,    0. ,    0. ,    1. ],\n",
              "       [1021. ,    1. ,    0.5, ...,    1. ,    1. ,    0. ],\n",
              "       [ 563. ,    1. ,    0.5, ...,    1. ,    1. ,    0. ],\n",
              "       ...,\n",
              "       [1911. ,    0. ,    0.9, ...,    1. ,    1. ,    0. ],\n",
              "       [1512. ,    0. ,    0.9, ...,    1. ,    1. ,    1. ],\n",
              "       [ 510. ,    1. ,    2. , ...,    1. ,    1. ,    1. ]])"
            ]
          },
          "metadata": {},
          "execution_count": 68
        }
      ]
    },
    {
      "cell_type": "code",
      "source": [
        "#split the independent variables as x and dependent variable as y\n",
        "X_ml = dataset[:,0:20]\n",
        "X_ml\n",
        "Y_ml = y\n",
        "Y_ml"
      ],
      "metadata": {
        "colab": {
          "base_uri": "https://localhost:8080/"
        },
        "id": "6n9JUQvWLLTE",
        "outputId": "d0d2925b-e87e-4071-a4e3-c07be11705a1"
      },
      "execution_count": null,
      "outputs": [
        {
          "output_type": "execute_result",
          "data": {
            "text/plain": [
              "0       1\n",
              "1       2\n",
              "2       2\n",
              "3       2\n",
              "4       1\n",
              "       ..\n",
              "1995    0\n",
              "1996    2\n",
              "1997    3\n",
              "1998    0\n",
              "1999    3\n",
              "Name: price_range, Length: 1982, dtype: int64"
            ]
          },
          "metadata": {},
          "execution_count": 69
        }
      ]
    },
    {
      "cell_type": "code",
      "source": [
        "#split the training data set\n",
        "X_train, X_val_and_test, Y_train, Y_val_and_test = train_test_split(X_ml, Y_ml, test_size=0.2 , random_state=42)\n",
        "X_val_and_test.shape"
      ],
      "metadata": {
        "colab": {
          "base_uri": "https://localhost:8080/"
        },
        "id": "TYYHnaUXNP9q",
        "outputId": "47dcc782-6afa-4b15-d10c-b97da60557a0"
      },
      "execution_count": null,
      "outputs": [
        {
          "output_type": "execute_result",
          "data": {
            "text/plain": [
              "(397, 20)"
            ]
          },
          "metadata": {},
          "execution_count": 70
        }
      ]
    },
    {
      "cell_type": "code",
      "source": [
        "#split the testing data set\n",
        "X_val, X_test, Y_val, Y_test = train_test_split(X_val_and_test, Y_val_and_test, test_size=0.5)\n",
        "print(X_train.shape, X_val.shape, X_test.shape, Y_train.shape, Y_val.shape, Y_test.shape)"
      ],
      "metadata": {
        "colab": {
          "base_uri": "https://localhost:8080/"
        },
        "id": "jj_48ZCObQkZ",
        "outputId": "919493fb-80af-41bd-d22e-f4321de6edfe"
      },
      "execution_count": null,
      "outputs": [
        {
          "output_type": "stream",
          "name": "stdout",
          "text": [
            "(1585, 20) (198, 20) (199, 20) (1585,) (198,) (199,)\n"
          ]
        }
      ]
    },
    {
      "cell_type": "markdown",
      "source": [
        "**8.2. Apply the MLNN model**\n",
        "\n"
      ],
      "metadata": {
        "id": "01xjmARjvZ6-"
      }
    },
    {
      "cell_type": "code",
      "source": [
        "model = Sequential([\n",
        " Dense(16, activation=\"relu\", input_shape=(20,)),\n",
        " Dense(16,activation='relu'),\n",
        " Dense(4,activation='softmax')\n",
        "])\n",
        "model.compile(\n",
        "   loss = SparseCategoricalCrossentropy(),\n",
        "   optimizer = Adam(),\n",
        "   metrics=\"accuracy\")"
      ],
      "metadata": {
        "id": "TSDrt8I4ZAR7"
      },
      "execution_count": null,
      "outputs": []
    },
    {
      "cell_type": "code",
      "source": [
        "model.fit(X_train,Y_train,validation_data=(X_val, Y_val),epochs=100)"
      ],
      "metadata": {
        "colab": {
          "base_uri": "https://localhost:8080/"
        },
        "id": "izoCWOalZdLa",
        "outputId": "b229f76f-ad4a-4364-d1a2-422a18a557b0"
      },
      "execution_count": null,
      "outputs": [
        {
          "output_type": "stream",
          "name": "stdout",
          "text": [
            "Epoch 1/100\n",
            "50/50 [==============================] - 1s 4ms/step - loss: 228.8061 - accuracy: 0.3079 - val_loss: 117.4883 - val_accuracy: 0.2626\n",
            "Epoch 2/100\n",
            "50/50 [==============================] - 0s 2ms/step - loss: 60.0261 - accuracy: 0.3350 - val_loss: 23.6343 - val_accuracy: 0.3384\n",
            "Epoch 3/100\n",
            "50/50 [==============================] - 0s 2ms/step - loss: 12.3560 - accuracy: 0.4700 - val_loss: 9.9270 - val_accuracy: 0.5000\n",
            "Epoch 4/100\n",
            "50/50 [==============================] - 0s 2ms/step - loss: 7.4266 - accuracy: 0.5256 - val_loss: 7.6685 - val_accuracy: 0.5303\n",
            "Epoch 5/100\n",
            "50/50 [==============================] - 0s 2ms/step - loss: 5.5594 - accuracy: 0.5401 - val_loss: 5.8647 - val_accuracy: 0.4848\n",
            "Epoch 6/100\n",
            "50/50 [==============================] - 0s 2ms/step - loss: 4.1760 - accuracy: 0.5420 - val_loss: 3.8868 - val_accuracy: 0.5758\n",
            "Epoch 7/100\n",
            "50/50 [==============================] - 0s 2ms/step - loss: 3.2476 - accuracy: 0.5558 - val_loss: 2.4614 - val_accuracy: 0.6212\n",
            "Epoch 8/100\n",
            "50/50 [==============================] - 0s 2ms/step - loss: 2.7937 - accuracy: 0.5577 - val_loss: 2.6689 - val_accuracy: 0.5152\n",
            "Epoch 9/100\n",
            "50/50 [==============================] - 0s 2ms/step - loss: 2.5745 - accuracy: 0.5584 - val_loss: 2.6139 - val_accuracy: 0.5101\n",
            "Epoch 10/100\n",
            "50/50 [==============================] - 0s 2ms/step - loss: 2.0384 - accuracy: 0.5880 - val_loss: 1.7873 - val_accuracy: 0.5808\n",
            "Epoch 11/100\n",
            "50/50 [==============================] - 0s 2ms/step - loss: 1.9197 - accuracy: 0.6032 - val_loss: 1.4916 - val_accuracy: 0.6263\n",
            "Epoch 12/100\n",
            "50/50 [==============================] - 0s 2ms/step - loss: 2.0513 - accuracy: 0.5729 - val_loss: 1.8005 - val_accuracy: 0.6313\n",
            "Epoch 13/100\n",
            "50/50 [==============================] - 0s 2ms/step - loss: 1.7576 - accuracy: 0.5842 - val_loss: 1.5068 - val_accuracy: 0.5960\n",
            "Epoch 14/100\n",
            "50/50 [==============================] - 0s 2ms/step - loss: 1.5998 - accuracy: 0.5912 - val_loss: 1.8910 - val_accuracy: 0.5657\n",
            "Epoch 15/100\n",
            "50/50 [==============================] - 0s 2ms/step - loss: 1.4684 - accuracy: 0.6095 - val_loss: 1.2350 - val_accuracy: 0.6364\n",
            "Epoch 16/100\n",
            "50/50 [==============================] - 0s 2ms/step - loss: 1.4520 - accuracy: 0.5981 - val_loss: 1.8696 - val_accuracy: 0.5354\n",
            "Epoch 17/100\n",
            "50/50 [==============================] - 0s 2ms/step - loss: 1.4672 - accuracy: 0.5924 - val_loss: 1.5554 - val_accuracy: 0.5859\n",
            "Epoch 18/100\n",
            "50/50 [==============================] - 0s 2ms/step - loss: 1.3055 - accuracy: 0.6164 - val_loss: 1.2778 - val_accuracy: 0.6414\n",
            "Epoch 19/100\n",
            "50/50 [==============================] - 0s 2ms/step - loss: 1.4277 - accuracy: 0.6132 - val_loss: 1.1612 - val_accuracy: 0.6616\n",
            "Epoch 20/100\n",
            "50/50 [==============================] - 0s 2ms/step - loss: 1.3778 - accuracy: 0.5994 - val_loss: 1.3864 - val_accuracy: 0.6111\n",
            "Epoch 21/100\n",
            "50/50 [==============================] - 0s 1ms/step - loss: 1.5129 - accuracy: 0.5868 - val_loss: 1.5869 - val_accuracy: 0.6263\n",
            "Epoch 22/100\n",
            "50/50 [==============================] - 0s 2ms/step - loss: 1.3252 - accuracy: 0.6145 - val_loss: 1.5033 - val_accuracy: 0.6010\n",
            "Epoch 23/100\n",
            "50/50 [==============================] - 0s 2ms/step - loss: 1.3333 - accuracy: 0.6227 - val_loss: 1.4486 - val_accuracy: 0.6566\n",
            "Epoch 24/100\n",
            "50/50 [==============================] - 0s 2ms/step - loss: 1.2382 - accuracy: 0.6139 - val_loss: 1.1477 - val_accuracy: 0.6212\n",
            "Epoch 25/100\n",
            "50/50 [==============================] - 0s 2ms/step - loss: 1.3012 - accuracy: 0.5981 - val_loss: 1.0770 - val_accuracy: 0.6465\n",
            "Epoch 26/100\n",
            "50/50 [==============================] - 0s 2ms/step - loss: 1.1165 - accuracy: 0.6132 - val_loss: 1.1587 - val_accuracy: 0.6616\n",
            "Epoch 27/100\n",
            "50/50 [==============================] - 0s 2ms/step - loss: 1.4818 - accuracy: 0.5912 - val_loss: 1.1017 - val_accuracy: 0.6414\n",
            "Epoch 28/100\n",
            "50/50 [==============================] - 0s 2ms/step - loss: 1.3679 - accuracy: 0.6057 - val_loss: 1.3252 - val_accuracy: 0.5455\n",
            "Epoch 29/100\n",
            "50/50 [==============================] - 0s 2ms/step - loss: 1.3455 - accuracy: 0.5943 - val_loss: 1.0799 - val_accuracy: 0.6061\n",
            "Epoch 30/100\n",
            "50/50 [==============================] - 0s 2ms/step - loss: 1.0665 - accuracy: 0.6290 - val_loss: 1.0372 - val_accuracy: 0.6162\n",
            "Epoch 31/100\n",
            "50/50 [==============================] - 0s 2ms/step - loss: 1.1987 - accuracy: 0.6126 - val_loss: 1.6065 - val_accuracy: 0.5808\n",
            "Epoch 32/100\n",
            "50/50 [==============================] - 0s 2ms/step - loss: 1.0840 - accuracy: 0.6126 - val_loss: 1.2193 - val_accuracy: 0.5859\n",
            "Epoch 33/100\n",
            "50/50 [==============================] - 0s 2ms/step - loss: 1.0123 - accuracy: 0.6416 - val_loss: 1.1493 - val_accuracy: 0.6061\n",
            "Epoch 34/100\n",
            "50/50 [==============================] - 0s 2ms/step - loss: 1.3196 - accuracy: 0.5760 - val_loss: 1.3013 - val_accuracy: 0.6313\n",
            "Epoch 35/100\n",
            "50/50 [==============================] - 0s 2ms/step - loss: 1.3339 - accuracy: 0.6183 - val_loss: 1.4775 - val_accuracy: 0.6313\n",
            "Epoch 36/100\n",
            "50/50 [==============================] - 0s 2ms/step - loss: 1.0417 - accuracy: 0.6353 - val_loss: 1.0091 - val_accuracy: 0.6162\n",
            "Epoch 37/100\n",
            "50/50 [==============================] - 0s 2ms/step - loss: 1.0866 - accuracy: 0.6240 - val_loss: 1.3610 - val_accuracy: 0.6212\n",
            "Epoch 38/100\n",
            "50/50 [==============================] - 0s 2ms/step - loss: 1.0113 - accuracy: 0.6246 - val_loss: 0.9184 - val_accuracy: 0.6313\n",
            "Epoch 39/100\n",
            "50/50 [==============================] - 0s 2ms/step - loss: 0.9335 - accuracy: 0.6315 - val_loss: 0.9334 - val_accuracy: 0.6566\n",
            "Epoch 40/100\n",
            "50/50 [==============================] - 0s 2ms/step - loss: 0.9605 - accuracy: 0.6196 - val_loss: 0.9057 - val_accuracy: 0.6566\n",
            "Epoch 41/100\n",
            "50/50 [==============================] - 0s 2ms/step - loss: 0.9638 - accuracy: 0.6246 - val_loss: 1.4842 - val_accuracy: 0.5505\n",
            "Epoch 42/100\n",
            "50/50 [==============================] - 0s 2ms/step - loss: 1.0946 - accuracy: 0.6145 - val_loss: 0.9479 - val_accuracy: 0.5758\n",
            "Epoch 43/100\n",
            "50/50 [==============================] - 0s 2ms/step - loss: 1.0498 - accuracy: 0.6297 - val_loss: 1.0751 - val_accuracy: 0.6414\n",
            "Epoch 44/100\n",
            "50/50 [==============================] - 0s 2ms/step - loss: 0.9312 - accuracy: 0.6486 - val_loss: 0.7895 - val_accuracy: 0.6515\n",
            "Epoch 45/100\n",
            "50/50 [==============================] - 0s 2ms/step - loss: 0.9623 - accuracy: 0.6297 - val_loss: 1.1468 - val_accuracy: 0.5303\n",
            "Epoch 46/100\n",
            "50/50 [==============================] - 0s 2ms/step - loss: 0.8647 - accuracy: 0.6555 - val_loss: 0.8118 - val_accuracy: 0.6414\n",
            "Epoch 47/100\n",
            "50/50 [==============================] - 0s 2ms/step - loss: 0.9631 - accuracy: 0.6183 - val_loss: 1.1515 - val_accuracy: 0.6313\n",
            "Epoch 48/100\n",
            "50/50 [==============================] - 0s 2ms/step - loss: 0.9894 - accuracy: 0.6309 - val_loss: 0.8021 - val_accuracy: 0.7071\n",
            "Epoch 49/100\n",
            "50/50 [==============================] - 0s 2ms/step - loss: 0.9193 - accuracy: 0.6505 - val_loss: 0.8514 - val_accuracy: 0.6566\n",
            "Epoch 50/100\n",
            "50/50 [==============================] - 0s 2ms/step - loss: 0.9022 - accuracy: 0.6498 - val_loss: 1.1481 - val_accuracy: 0.6212\n",
            "Epoch 51/100\n",
            "50/50 [==============================] - 0s 2ms/step - loss: 0.8843 - accuracy: 0.6505 - val_loss: 0.7576 - val_accuracy: 0.6919\n",
            "Epoch 52/100\n",
            "50/50 [==============================] - 0s 2ms/step - loss: 0.9004 - accuracy: 0.6442 - val_loss: 0.9135 - val_accuracy: 0.6919\n",
            "Epoch 53/100\n",
            "50/50 [==============================] - 0s 2ms/step - loss: 1.1178 - accuracy: 0.6038 - val_loss: 0.9686 - val_accuracy: 0.6364\n",
            "Epoch 54/100\n",
            "50/50 [==============================] - 0s 2ms/step - loss: 0.9601 - accuracy: 0.6158 - val_loss: 1.0073 - val_accuracy: 0.5707\n",
            "Epoch 55/100\n",
            "50/50 [==============================] - 0s 2ms/step - loss: 1.0684 - accuracy: 0.6265 - val_loss: 0.7839 - val_accuracy: 0.6465\n",
            "Epoch 56/100\n",
            "50/50 [==============================] - 0s 2ms/step - loss: 0.9205 - accuracy: 0.6486 - val_loss: 0.9780 - val_accuracy: 0.6515\n",
            "Epoch 57/100\n",
            "50/50 [==============================] - 0s 2ms/step - loss: 1.0911 - accuracy: 0.6233 - val_loss: 1.2719 - val_accuracy: 0.5808\n",
            "Epoch 58/100\n",
            "50/50 [==============================] - 0s 2ms/step - loss: 1.0116 - accuracy: 0.6379 - val_loss: 1.0436 - val_accuracy: 0.5707\n",
            "Epoch 59/100\n",
            "50/50 [==============================] - 0s 2ms/step - loss: 0.8274 - accuracy: 0.6599 - val_loss: 0.9117 - val_accuracy: 0.6010\n",
            "Epoch 60/100\n",
            "50/50 [==============================] - 0s 2ms/step - loss: 0.8380 - accuracy: 0.6473 - val_loss: 1.0365 - val_accuracy: 0.5758\n",
            "Epoch 61/100\n",
            "50/50 [==============================] - 0s 2ms/step - loss: 0.9339 - accuracy: 0.6448 - val_loss: 1.1410 - val_accuracy: 0.6414\n",
            "Epoch 62/100\n",
            "50/50 [==============================] - 0s 2ms/step - loss: 1.0081 - accuracy: 0.6259 - val_loss: 0.8321 - val_accuracy: 0.6818\n",
            "Epoch 63/100\n",
            "50/50 [==============================] - 0s 2ms/step - loss: 0.9017 - accuracy: 0.6423 - val_loss: 0.8981 - val_accuracy: 0.6364\n",
            "Epoch 64/100\n",
            "50/50 [==============================] - 0s 2ms/step - loss: 0.9437 - accuracy: 0.6429 - val_loss: 0.7908 - val_accuracy: 0.6566\n",
            "Epoch 65/100\n",
            "50/50 [==============================] - 0s 2ms/step - loss: 0.8280 - accuracy: 0.6770 - val_loss: 1.0516 - val_accuracy: 0.6566\n",
            "Epoch 66/100\n",
            "50/50 [==============================] - 0s 2ms/step - loss: 0.9430 - accuracy: 0.6341 - val_loss: 0.8786 - val_accuracy: 0.6970\n",
            "Epoch 67/100\n",
            "50/50 [==============================] - 0s 2ms/step - loss: 0.8754 - accuracy: 0.6644 - val_loss: 1.0825 - val_accuracy: 0.6414\n",
            "Epoch 68/100\n",
            "50/50 [==============================] - 0s 2ms/step - loss: 0.9030 - accuracy: 0.6473 - val_loss: 1.0042 - val_accuracy: 0.6162\n",
            "Epoch 69/100\n",
            "50/50 [==============================] - 0s 2ms/step - loss: 1.2115 - accuracy: 0.6095 - val_loss: 1.2412 - val_accuracy: 0.5202\n",
            "Epoch 70/100\n",
            "50/50 [==============================] - 0s 2ms/step - loss: 0.9021 - accuracy: 0.6410 - val_loss: 0.8202 - val_accuracy: 0.6465\n",
            "Epoch 71/100\n",
            "50/50 [==============================] - 0s 2ms/step - loss: 0.7924 - accuracy: 0.6637 - val_loss: 0.8327 - val_accuracy: 0.6919\n",
            "Epoch 72/100\n",
            "50/50 [==============================] - 0s 2ms/step - loss: 0.9648 - accuracy: 0.6315 - val_loss: 1.0328 - val_accuracy: 0.6465\n",
            "Epoch 73/100\n",
            "50/50 [==============================] - 0s 2ms/step - loss: 0.8038 - accuracy: 0.6612 - val_loss: 0.7834 - val_accuracy: 0.7020\n",
            "Epoch 74/100\n",
            "50/50 [==============================] - 0s 2ms/step - loss: 0.7875 - accuracy: 0.6669 - val_loss: 1.0280 - val_accuracy: 0.5354\n",
            "Epoch 75/100\n",
            "50/50 [==============================] - 0s 2ms/step - loss: 0.9854 - accuracy: 0.6410 - val_loss: 1.7063 - val_accuracy: 0.4697\n",
            "Epoch 76/100\n",
            "50/50 [==============================] - 0s 2ms/step - loss: 0.8026 - accuracy: 0.6644 - val_loss: 0.7672 - val_accuracy: 0.6919\n",
            "Epoch 77/100\n",
            "50/50 [==============================] - 0s 2ms/step - loss: 0.8330 - accuracy: 0.6625 - val_loss: 0.7369 - val_accuracy: 0.6919\n",
            "Epoch 78/100\n",
            "50/50 [==============================] - 0s 2ms/step - loss: 0.8479 - accuracy: 0.6732 - val_loss: 0.7116 - val_accuracy: 0.6970\n",
            "Epoch 79/100\n",
            "50/50 [==============================] - 0s 2ms/step - loss: 0.8172 - accuracy: 0.6530 - val_loss: 0.6860 - val_accuracy: 0.6970\n",
            "Epoch 80/100\n",
            "50/50 [==============================] - 0s 2ms/step - loss: 0.7670 - accuracy: 0.6726 - val_loss: 0.8613 - val_accuracy: 0.6414\n",
            "Epoch 81/100\n",
            "50/50 [==============================] - 0s 2ms/step - loss: 0.8138 - accuracy: 0.6631 - val_loss: 0.9646 - val_accuracy: 0.6111\n",
            "Epoch 82/100\n",
            "50/50 [==============================] - 0s 2ms/step - loss: 1.0121 - accuracy: 0.6473 - val_loss: 1.1655 - val_accuracy: 0.6212\n",
            "Epoch 83/100\n",
            "50/50 [==============================] - 0s 2ms/step - loss: 0.9050 - accuracy: 0.6511 - val_loss: 0.6702 - val_accuracy: 0.7071\n",
            "Epoch 84/100\n",
            "50/50 [==============================] - 0s 2ms/step - loss: 0.8293 - accuracy: 0.6637 - val_loss: 1.3447 - val_accuracy: 0.5657\n",
            "Epoch 85/100\n",
            "50/50 [==============================] - 0s 2ms/step - loss: 0.9805 - accuracy: 0.6404 - val_loss: 1.0754 - val_accuracy: 0.5960\n",
            "Epoch 86/100\n",
            "50/50 [==============================] - 0s 2ms/step - loss: 0.8211 - accuracy: 0.6517 - val_loss: 0.7060 - val_accuracy: 0.6768\n",
            "Epoch 87/100\n",
            "50/50 [==============================] - 0s 2ms/step - loss: 0.7818 - accuracy: 0.6688 - val_loss: 0.9959 - val_accuracy: 0.6364\n",
            "Epoch 88/100\n",
            "50/50 [==============================] - 0s 2ms/step - loss: 0.8639 - accuracy: 0.6486 - val_loss: 1.4048 - val_accuracy: 0.5354\n",
            "Epoch 89/100\n",
            "50/50 [==============================] - 0s 2ms/step - loss: 0.8626 - accuracy: 0.6498 - val_loss: 0.7904 - val_accuracy: 0.6970\n",
            "Epoch 90/100\n",
            "50/50 [==============================] - 0s 2ms/step - loss: 0.7170 - accuracy: 0.6877 - val_loss: 0.8256 - val_accuracy: 0.6364\n",
            "Epoch 91/100\n",
            "50/50 [==============================] - 0s 2ms/step - loss: 0.8504 - accuracy: 0.6530 - val_loss: 0.9723 - val_accuracy: 0.6162\n",
            "Epoch 92/100\n",
            "50/50 [==============================] - 0s 2ms/step - loss: 0.7060 - accuracy: 0.6757 - val_loss: 0.9325 - val_accuracy: 0.6263\n",
            "Epoch 93/100\n",
            "50/50 [==============================] - 0s 2ms/step - loss: 0.7679 - accuracy: 0.6675 - val_loss: 0.9015 - val_accuracy: 0.6414\n",
            "Epoch 94/100\n",
            "50/50 [==============================] - 0s 2ms/step - loss: 0.8258 - accuracy: 0.6599 - val_loss: 0.9084 - val_accuracy: 0.6970\n",
            "Epoch 95/100\n",
            "50/50 [==============================] - 0s 2ms/step - loss: 0.7860 - accuracy: 0.6808 - val_loss: 0.8755 - val_accuracy: 0.6566\n",
            "Epoch 96/100\n",
            "50/50 [==============================] - 0s 2ms/step - loss: 0.9498 - accuracy: 0.6397 - val_loss: 1.0036 - val_accuracy: 0.6465\n",
            "Epoch 97/100\n",
            "50/50 [==============================] - 0s 2ms/step - loss: 0.6841 - accuracy: 0.6927 - val_loss: 0.7776 - val_accuracy: 0.6465\n",
            "Epoch 98/100\n",
            "50/50 [==============================] - 0s 2ms/step - loss: 0.8408 - accuracy: 0.6814 - val_loss: 0.7056 - val_accuracy: 0.7020\n",
            "Epoch 99/100\n",
            "50/50 [==============================] - 0s 2ms/step - loss: 0.7272 - accuracy: 0.6864 - val_loss: 0.8407 - val_accuracy: 0.6465\n",
            "Epoch 100/100\n",
            "50/50 [==============================] - 0s 2ms/step - loss: 0.9761 - accuracy: 0.6360 - val_loss: 1.2920 - val_accuracy: 0.6111\n"
          ]
        },
        {
          "output_type": "execute_result",
          "data": {
            "text/plain": [
              "<keras.callbacks.History at 0x7f1710d0feb0>"
            ]
          },
          "metadata": {},
          "execution_count": 73
        }
      ]
    },
    {
      "cell_type": "markdown",
      "source": [
        "# **9. Prediction and Evaluation for MLNN model** "
      ],
      "metadata": {
        "id": "ea9-4U5kvvAE"
      }
    },
    {
      "cell_type": "markdown",
      "source": [
        "**9.1. Model Evaluation**"
      ],
      "metadata": {
        "id": "IkA6PZN_v5xV"
      }
    },
    {
      "cell_type": "code",
      "source": [
        "model.evaluate(X_test, Y_test)"
      ],
      "metadata": {
        "colab": {
          "base_uri": "https://localhost:8080/"
        },
        "id": "UjnlnaxwdI1S",
        "outputId": "5d6f42ef-ccd3-4c49-9d0a-58cc09ab3035"
      },
      "execution_count": null,
      "outputs": [
        {
          "output_type": "stream",
          "name": "stdout",
          "text": [
            "7/7 [==============================] - 0s 1ms/step - loss: 1.2118 - accuracy: 0.6131\n"
          ]
        },
        {
          "output_type": "execute_result",
          "data": {
            "text/plain": [
              "[1.2118018865585327, 0.6130653023719788]"
            ]
          },
          "metadata": {},
          "execution_count": 74
        }
      ]
    },
    {
      "cell_type": "markdown",
      "source": [
        "**9.2. Prediction**"
      ],
      "metadata": {
        "id": "ZYovSgJCwLhr"
      }
    },
    {
      "cell_type": "code",
      "source": [
        "def predictionrelease(preds):\n",
        "    arr = []\n",
        "    for i in range(0,len(preds)):\n",
        "        ans=np.argmax(preds[i])\n",
        "        arr.append(ans)\n",
        "    len(arr)\n",
        "    return arr"
      ],
      "metadata": {
        "id": "c9x7rrJ8hClY"
      },
      "execution_count": null,
      "outputs": []
    },
    {
      "cell_type": "code",
      "source": [
        " #testing our cross val sets\n",
        "preds_test = model.predict(X_test)      \n",
        "test_preds = predictionrelease(preds_test)"
      ],
      "metadata": {
        "colab": {
          "base_uri": "https://localhost:8080/"
        },
        "id": "eiKAzCQHdNIj",
        "outputId": "8ae1273e-11fd-4c19-ffd3-047d221ea5df"
      },
      "execution_count": null,
      "outputs": [
        {
          "output_type": "stream",
          "name": "stdout",
          "text": [
            "7/7 [==============================] - 0s 1ms/step\n"
          ]
        }
      ]
    },
    {
      "cell_type": "markdown",
      "source": [
        "**9.3. Classification Report**"
      ],
      "metadata": {
        "id": "76PV_9fJwtvb"
      }
    },
    {
      "cell_type": "code",
      "source": [
        "acc1 = accuracy_score(Y_test,test_preds)\n",
        "acc1\n",
        "#cross validation\n",
        "print(classification_report(Y_test,test_preds)) "
      ],
      "metadata": {
        "colab": {
          "base_uri": "https://localhost:8080/"
        },
        "id": "4IE7sQfThNVm",
        "outputId": "85b0cb81-bd87-49b2-ad0f-9e2d9171258a"
      },
      "execution_count": null,
      "outputs": [
        {
          "output_type": "stream",
          "name": "stdout",
          "text": [
            "              precision    recall  f1-score   support\n",
            "\n",
            "           0       0.76      0.95      0.84        59\n",
            "           1       0.44      0.26      0.33        31\n",
            "           2       0.89      0.14      0.24        59\n",
            "           3       0.51      1.00      0.68        50\n",
            "\n",
            "    accuracy                           0.61       199\n",
            "   macro avg       0.65      0.59      0.52       199\n",
            "weighted avg       0.69      0.61      0.54       199\n",
            "\n"
          ]
        }
      ]
    },
    {
      "cell_type": "markdown",
      "source": [
        "# **10. Compare KNN model with MLNN model**"
      ],
      "metadata": {
        "id": "JX7w08AcweU-"
      }
    },
    {
      "cell_type": "code",
      "source": [
        "models = ['kNN','MLNN']\n",
        "acc_scores = [acc, acc1]\n",
        "\n",
        "plt.bar(models, acc_scores, color=['green', 'blue'])\n",
        "plt.ylabel(\"accuracy scores\")\n",
        "plt.title(\"KNN model vs MLNN model\")\n",
        "plt.show()"
      ],
      "metadata": {
        "colab": {
          "base_uri": "https://localhost:8080/",
          "height": 284
        },
        "id": "LgA5qrHXhUMz",
        "outputId": "f1d41128-7771-4244-f2f8-99b8793958a4"
      },
      "execution_count": null,
      "outputs": [
        {
          "output_type": "display_data",
          "data": {
            "text/plain": [
              "<Figure size 432x288 with 1 Axes>"
            ],
            "image/png": "[encoded data removed]"
          },
          "metadata": {
            "needs_background": "light"
          }
        }
      ]
    }
  ]
}